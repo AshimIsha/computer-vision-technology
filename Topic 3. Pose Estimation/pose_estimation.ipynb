{
 "cells": [
  {
   "cell_type": "code",
   "execution_count": 1,
   "id": "d460aef4-503e-4906-9434-fada391c9ed3",
   "metadata": {},
   "outputs": [],
   "source": [
    "import json\n",
    "\n",
    "import numpy as np\n",
    "import cv2\n",
    "\n",
    "from PIL import Image\n",
    "\n",
    "from tqdm.notebook import tqdm\n",
    "\n",
    "import matplotlib.pyplot as plt\n",
    "\n",
    "import albumentations as A\n",
    "from albumentations.pytorch import ToTensorV2"
   ]
  },
  {
   "cell_type": "code",
   "execution_count": 2,
   "id": "a651f0ab-ce9f-446b-9ba9-cd38f93c7a82",
   "metadata": {},
   "outputs": [],
   "source": [
    "import torch\n",
    "import torch.nn as nn\n",
    "import torch.nn.functional as F\n",
    "import torch.optim as optim\n",
    "from torch.utils.data import Dataset, DataLoader\n",
    "\n",
    "import timm"
   ]
  },
  {
   "cell_type": "code",
   "execution_count": 3,
   "id": "b748d6fe-115f-441e-93b5-bd01176cb6a0",
   "metadata": {},
   "outputs": [],
   "source": [
    "batch_size = 32\n",
    "image_dir = 'ap-10k/data/'"
   ]
  },
  {
   "cell_type": "code",
   "execution_count": 4,
   "id": "69e9d8c4-6a67-4e1b-8ce9-0262c82c3911",
   "metadata": {},
   "outputs": [
    {
     "data": {
      "text/plain": [
       "'mps'"
      ]
     },
     "execution_count": 4,
     "metadata": {},
     "output_type": "execute_result"
    }
   ],
   "source": [
    "device = 'cuda' if torch.cuda.is_available() else 'mps' if torch.backends.mps.is_available() else 'cpu'\n",
    "device"
   ]
  },
  {
   "cell_type": "markdown",
   "id": "1e9996c2-6a2f-499d-9482-a1f49d7f27ff",
   "metadata": {},
   "source": [
    "# Prepare data\n",
    "\n",
    "Dataset: [AP-10K](https://github.com/AlexTheBad/AP-10K)"
   ]
  },
  {
   "cell_type": "code",
   "execution_count": 5,
   "id": "5410f6ec-c3a1-4d47-8e88-092bf3f51a70",
   "metadata": {},
   "outputs": [],
   "source": [
    "split1 = json.load(open('ap-10k/annotations/ap10k-train-split1.json'))"
   ]
  },
  {
   "cell_type": "code",
   "execution_count": 6,
   "id": "22e5653d-0026-49d0-ab95-ae24b6da4a13",
   "metadata": {},
   "outputs": [
    {
     "data": {
      "text/plain": [
       "dict_keys(['info', 'licenses', 'images', 'annotations', 'categories'])"
      ]
     },
     "execution_count": 6,
     "metadata": {},
     "output_type": "execute_result"
    }
   ],
   "source": [
    "split1.keys()"
   ]
  },
  {
   "cell_type": "code",
   "execution_count": 26,
   "id": "70fef56c-bda5-4136-adf0-d49ab0a8398e",
   "metadata": {},
   "outputs": [
    {
     "data": {
      "text/plain": [
       "{'license': 1,\n",
       " 'id': 371,\n",
       " 'file_name': '000000000371.jpg',\n",
       " 'width': 1024,\n",
       " 'height': 768,\n",
       " 'background': 2}"
      ]
     },
     "execution_count": 26,
     "metadata": {},
     "output_type": "execute_result"
    }
   ],
   "source": [
    "split1['images'][0]"
   ]
  },
  {
   "cell_type": "code",
   "execution_count": 27,
   "id": "b3e6c1df-28c9-4bac-8394-b153e1c01199",
   "metadata": {},
   "outputs": [
    {
     "data": {
      "text/plain": [
       "{'id': 441,\n",
       " 'image_id': 371,\n",
       " 'category_id': 1,\n",
       " 'bbox': [255, 209, 483, 387],\n",
       " 'area': 186921,\n",
       " 'iscrowd': 0,\n",
       " 'num_keypoints': 16,\n",
       " 'keypoints': [0,\n",
       "  0,\n",
       "  0,\n",
       "  681,\n",
       "  464,\n",
       "  2,\n",
       "  687,\n",
       "  527,\n",
       "  2,\n",
       "  612,\n",
       "  380,\n",
       "  2,\n",
       "  312,\n",
       "  257,\n",
       "  2,\n",
       "  501,\n",
       "  401,\n",
       "  2,\n",
       "  516,\n",
       "  467,\n",
       "  2,\n",
       "  528,\n",
       "  542,\n",
       "  2,\n",
       "  570,\n",
       "  401,\n",
       "  2,\n",
       "  627,\n",
       "  449,\n",
       "  2,\n",
       "  612,\n",
       "  539,\n",
       "  2,\n",
       "  321,\n",
       "  362,\n",
       "  2,\n",
       "  276,\n",
       "  404,\n",
       "  2,\n",
       "  282,\n",
       "  548,\n",
       "  2,\n",
       "  357,\n",
       "  374,\n",
       "  2,\n",
       "  321,\n",
       "  428,\n",
       "  2,\n",
       "  348,\n",
       "  563,\n",
       "  2]}"
      ]
     },
     "execution_count": 27,
     "metadata": {},
     "output_type": "execute_result"
    }
   ],
   "source": [
    "split1['annotations'][0]"
   ]
  },
  {
   "cell_type": "code",
   "execution_count": 7,
   "id": "cd2f5d29-8a26-41eb-805a-57f3cb9946c5",
   "metadata": {},
   "outputs": [],
   "source": [
    "category = [cat for cat in split1['categories'] if cat['name'] == 'dog'][0]"
   ]
  },
  {
   "cell_type": "code",
   "execution_count": 8,
   "id": "635f9b6f-3482-4c0c-838f-c276ec5b45a6",
   "metadata": {},
   "outputs": [
    {
     "data": {
      "text/plain": [
       "{'id': 8,\n",
       " 'name': 'dog',\n",
       " 'supercategory': 'Canidae',\n",
       " 'keypoints': ['left_eye',\n",
       "  'right_eye',\n",
       "  'nose',\n",
       "  'neck',\n",
       "  'root_of_tail',\n",
       "  'left_shoulder',\n",
       "  'left_elbow',\n",
       "  'left_front_paw',\n",
       "  'right_shoulder',\n",
       "  'right_elbow',\n",
       "  'right_front_paw',\n",
       "  'left_hip',\n",
       "  'left_knee',\n",
       "  'left_back_paw',\n",
       "  'right_hip',\n",
       "  'right_knee',\n",
       "  'right_back_paw'],\n",
       " 'skeleton': [[1, 2],\n",
       "  [1, 3],\n",
       "  [2, 3],\n",
       "  [3, 4],\n",
       "  [4, 5],\n",
       "  [4, 6],\n",
       "  [6, 7],\n",
       "  [7, 8],\n",
       "  [4, 9],\n",
       "  [9, 10],\n",
       "  [10, 11],\n",
       "  [5, 12],\n",
       "  [12, 13],\n",
       "  [13, 14],\n",
       "  [5, 15],\n",
       "  [15, 16],\n",
       "  [16, 17]]}"
      ]
     },
     "execution_count": 8,
     "metadata": {},
     "output_type": "execute_result"
    }
   ],
   "source": [
    "category"
   ]
  },
  {
   "cell_type": "code",
   "execution_count": 9,
   "id": "2778b77e-16dc-49db-be1f-c23ed2236385",
   "metadata": {},
   "outputs": [],
   "source": [
    "def get_annotations(name):\n",
    "    annotations = []\n",
    "    for i in range(1, 4):\n",
    "        split = json.load(open(f'ap-10k/annotations/ap10k-{name}-split{i}.json'))\n",
    "        id2filename = {image['id']:image['file_name'] for image in split['images']}\n",
    "        for anno in split['annotations']:\n",
    "            if anno['category_id'] == category['id']:\n",
    "                anno['file_name'] = id2filename[anno['image_id']]\n",
    "                annotations.append(anno)\n",
    "    return annotations"
   ]
  },
  {
   "cell_type": "code",
   "execution_count": 10,
   "id": "5274c4af-2d64-4c84-93f1-065cb65a0c71",
   "metadata": {},
   "outputs": [],
   "source": [
    "train = get_annotations('train')\n",
    "val = get_annotations('val')"
   ]
  },
  {
   "cell_type": "code",
   "execution_count": 11,
   "id": "a7a10a0e-068e-44d2-b376-4094eda46404",
   "metadata": {},
   "outputs": [
    {
     "name": "stdout",
     "output_type": "stream",
     "text": [
      "Train: 2368\n",
      "Val: 339\n"
     ]
    }
   ],
   "source": [
    "print('Train:', len(train))\n",
    "print('Val:', len(val))"
   ]
  },
  {
   "cell_type": "markdown",
   "id": "e409a64a-1bbb-49f1-af6b-cc61e04445b6",
   "metadata": {},
   "source": [
    "# ANNOTATIONS\n",
    "Annotations for keypoints are just like in Object Detection (Segmentation) above, except a number of keypoints is specified in sets of 3, (x, y, v).\n",
    "\n",
    "x and y indicate pixel positions in the image.\n",
    "\n",
    "v indicates visibility— v=0: not labeled (in which case x=y=0), v=1: labeled but not visible, and v=2: labeled and visible  \n",
    "\n",
    "229, 256, 2 means there’s a keypoint at pixel x=229, y=256 and 2 indicates that it is a visible keypoint"
   ]
  },
  {
   "cell_type": "code",
   "execution_count": 12,
   "id": "0da4c46e-71ce-4150-88a4-050576cbdb30",
   "metadata": {},
   "outputs": [
    {
     "data": {
      "text/plain": [
       "{'id': 2498,\n",
       " 'image_id': 8818,\n",
       " 'category_id': 8,\n",
       " 'bbox': [130, 25, 775, 647],\n",
       " 'area': 501425,\n",
       " 'iscrowd': 0,\n",
       " 'num_keypoints': 3,\n",
       " 'keypoints': [625,\n",
       "  335,\n",
       "  2,\n",
       "  410,\n",
       "  337,\n",
       "  2,\n",
       "  513,\n",
       "  410,\n",
       "  2,\n",
       "  0,\n",
       "  0,\n",
       "  0,\n",
       "  0,\n",
       "  0,\n",
       "  0,\n",
       "  0,\n",
       "  0,\n",
       "  0,\n",
       "  0,\n",
       "  0,\n",
       "  0,\n",
       "  0,\n",
       "  0,\n",
       "  0,\n",
       "  0,\n",
       "  0,\n",
       "  0,\n",
       "  0,\n",
       "  0,\n",
       "  0,\n",
       "  0,\n",
       "  0,\n",
       "  0,\n",
       "  0,\n",
       "  0,\n",
       "  0,\n",
       "  0,\n",
       "  0,\n",
       "  0,\n",
       "  0,\n",
       "  0,\n",
       "  0,\n",
       "  0,\n",
       "  0,\n",
       "  0,\n",
       "  0,\n",
       "  0,\n",
       "  0,\n",
       "  0,\n",
       "  0,\n",
       "  0],\n",
       " 'file_name': '000000008818.jpg'}"
      ]
     },
     "execution_count": 12,
     "metadata": {},
     "output_type": "execute_result"
    }
   ],
   "source": [
    "train[0]"
   ]
  },
  {
   "cell_type": "code",
   "execution_count": 13,
   "id": "19999fdb-b9e5-4fff-a79d-326c513dc626",
   "metadata": {},
   "outputs": [
    {
     "data": {
      "text/plain": [
       "<matplotlib.image.AxesImage at 0x168ec3d90>"
      ]
     },
     "execution_count": 13,
     "metadata": {},
     "output_type": "execute_result"
    },
    {
     "data": {
      "image/png": "[encoded data removed]",
      "text/plain": [
       "<Figure size 432x288 with 1 Axes>"
      ]
     },
     "metadata": {
      "needs_background": "light"
     },
     "output_type": "display_data"
    }
   ],
   "source": [
    "image = cv2.imread(f'{image_dir}/{train[0][\"file_name\"]}')\n",
    "image = cv2.cvtColor(image, cv2.COLOR_BGR2RGB)\n",
    "\n",
    "plt.imshow(image)"
   ]
  },
  {
   "cell_type": "code",
   "execution_count": 14,
   "id": "4ff57542-a441-4368-9d4c-157076d6cc88",
   "metadata": {},
   "outputs": [
    {
     "data": {
      "text/plain": [
       "<matplotlib.image.AxesImage at 0x168d33d30>"
      ]
     },
     "execution_count": 14,
     "metadata": {},
     "output_type": "execute_result"
    },
    {
     "data": {
      "image/png": "[encoded data removed]",
      "text/plain": [
       "<Figure size 432x288 with 1 Axes>"
      ]
     },
     "metadata": {
      "needs_background": "light"
     },
     "output_type": "display_data"
    }
   ],
   "source": [
    "for i in range(0, len(train[0]['keypoints']), 3):\n",
    "    if train[0]['keypoints'][i+2] != 0:\n",
    "        cv2.circle(image, (train[0]['keypoints'][i], train[0]['keypoints'][i+1]), 0, (0, 255, 0), 15)\n",
    "plt.imshow(image)"
   ]
  },
  {
   "cell_type": "code",
   "execution_count": 15,
   "id": "d0a16a81-75ba-4761-843f-cf266ea3c1a3",
   "metadata": {},
   "outputs": [
    {
     "data": {
      "text/plain": [
       "<matplotlib.image.AxesImage at 0x168756f40>"
      ]
     },
     "execution_count": 15,
     "metadata": {},
     "output_type": "execute_result"
    },
    {
     "data": {
      "image/png": "[encoded data removed]",
      "text/plain": [
       "<Figure size 432x288 with 1 Axes>"
      ]
     },
     "metadata": {
      "needs_background": "light"
     },
     "output_type": "display_data"
    }
   ],
   "source": [
    "x_min = train[0]['bbox'][0]\n",
    "x_max = train[0]['bbox'][0] + train[0]['bbox'][2]\n",
    "y_min = train[0]['bbox'][1]\n",
    "y_max = train[0]['bbox'][1] + train[0]['bbox'][3]\n",
    "image = image[y_min:y_max,x_min:x_max]\n",
    "plt.imshow(image)"
   ]
  },
  {
   "cell_type": "code",
   "execution_count": 16,
   "id": "bee3a1e6-9151-447c-8e30-2bcfb64d25ae",
   "metadata": {},
   "outputs": [],
   "source": [
    "class KeypointsDataset(Dataset):\n",
    "\n",
    "    def __init__(self, meta):\n",
    "        self.meta = meta\n",
    "        self.preprocessing = A.Compose([\n",
    "            A.Resize(height=224, width=224),\n",
    "            A.Normalize(),\n",
    "            ToTensorV2()\n",
    "        ])\n",
    "\n",
    "    def __len__(self):\n",
    "        return len(self.meta)\n",
    "\n",
    "    def __getitem__(self, idx):\n",
    "        if torch.is_tensor(idx):\n",
    "            idx = idx.tolist()\n",
    "\n",
    "        image_name = f\"{image_dir}/{self.meta[idx]['file_name']}\"\n",
    "        image = Image.open(image_name).convert('RGB')\n",
    "        image = np.asarray(image)\n",
    "        \n",
    "        x_min = self.meta[idx]['bbox'][0]\n",
    "        x_max = self.meta[idx]['bbox'][0] + self.meta[idx]['bbox'][2]\n",
    "        y_min = self.meta[idx]['bbox'][1]\n",
    "        y_max = self.meta[idx]['bbox'][1] + self.meta[idx]['bbox'][3]\n",
    "        image = image[y_min:y_max,x_min:x_max]\n",
    "\n",
    "        image = self.preprocessing(image=image)['image']\n",
    "            \n",
    "        keypoints = []\n",
    "        for i in range(0, len(self.meta[idx]['keypoints']), 3):\n",
    "            keypoints.append((self.meta[idx]['keypoints'][i] - x_min) / (x_max - x_min))\n",
    "            keypoints.append((self.meta[idx]['keypoints'][i+1] - y_min) / (y_max - y_min))\n",
    "            keypoints.append(float(self.meta[idx]['keypoints'][i+2] > 0))\n",
    "\n",
    "        return image, torch.Tensor(keypoints)"
   ]
  },
  {
   "cell_type": "code",
   "execution_count": 17,
   "id": "bc0136b5-69fc-4c0b-b1a9-c969157c4021",
   "metadata": {},
   "outputs": [],
   "source": [
    "train_dataset = KeypointsDataset(meta=train)\n",
    "train_dataloader = DataLoader(train_dataset, batch_size=batch_size, shuffle=True, num_workers=0)\n",
    "\n",
    "val_dataset = KeypointsDataset(meta=val)\n",
    "val_dataloader = DataLoader(val_dataset, batch_size=batch_size, shuffle=False, num_workers=0)"
   ]
  },
  {
   "attachments": {
    "53ffed77-067f-4eac-b476-b81c4c21ea02.png": {
     "image/png": "[encoded data removed]"
    },
    "77d97a9e-ddfa-4b70-80ce-73e29925c584.png": {
     "image/png": "[encoded data removed]"
    }
   },
   "cell_type": "markdown",
   "id": "2f028b30-4d9a-45a9-b9ce-fa01384248be",
   "metadata": {},
   "source": [
    "# Metrics\n",
    "\n",
    "## Object Keypoint Similarity\n",
    "\n",
    "![image.png](attachment:53ffed77-067f-4eac-b476-b81c4c21ea02.png)\n",
    "\n",
    "![image.png](attachment:77d97a9e-ddfa-4b70-80ce-73e29925c584.png)"
   ]
  },
  {
   "cell_type": "code",
   "execution_count": 18,
   "id": "dbea856f-2b88-4099-b77f-5745b4a301f9",
   "metadata": {},
   "outputs": [],
   "source": [
    "def oks(y_true, y_pred, visibility):\n",
    "    # You might want to set these global constant\n",
    "    # outside the function scope\n",
    "    KAPPA = np.array([1] * len(y_true))\n",
    "    # The object scale\n",
    "    # You might need a dynamic value for the object scale\n",
    "    SCALE = 1.0\n",
    "\n",
    "    # Compute the L2/Euclidean Distance\n",
    "    distances = np.linalg.norm(y_pred - y_true, axis=-1)\n",
    "    # Compute the exponential part of the equation\n",
    "    exp_vector = np.exp(-(distances**2) / (2 * (SCALE**2) * (KAPPA**2)))\n",
    "    # The numerator expression\n",
    "    numerator = np.dot(exp_vector, visibility.astype(bool).astype(int))\n",
    "    # The denominator expression\n",
    "    denominator = np.sum(visibility.astype(bool).astype(int))\n",
    "    return numerator / denominator"
   ]
  },
  {
   "cell_type": "markdown",
   "id": "96211d7e-adf3-4821-8e87-60f5ef070d0f",
   "metadata": {},
   "source": [
    "# Create model"
   ]
  },
  {
   "cell_type": "code",
   "execution_count": 19,
   "id": "90df3763-96d7-4b59-82fb-8e2143fd01ea",
   "metadata": {},
   "outputs": [],
   "source": [
    "model = timm.create_model('mobilenetv2_050', pretrained=True, num_classes=0)\n",
    "model.global_pool = nn.Flatten()\n",
    "model.classifier = nn.Sequential(\n",
    "    nn.Linear(62720, 51),\n",
    "    nn.Sigmoid()\n",
    ")\n",
    "model.to(device);"
   ]
  },
  {
   "cell_type": "markdown",
   "id": "2dd58cad-51e9-41c3-bfcc-1122f97c020c",
   "metadata": {},
   "source": [
    "# Train"
   ]
  },
  {
   "cell_type": "code",
   "execution_count": 20,
   "id": "8c264db1-3d2f-4ca0-b736-a464cb407faa",
   "metadata": {},
   "outputs": [],
   "source": [
    "EPOCHS = 100\n",
    "lr = 0.001\n",
    "\n",
    "optimizer = optim.AdamW(model.parameters(), lr)\n",
    "\n",
    "criterion = nn.MSELoss()"
   ]
  },
  {
   "cell_type": "code",
   "execution_count": 21,
   "id": "d1ea49b5-0aae-4854-a906-1557661e1a39",
   "metadata": {},
   "outputs": [
    {
     "data": {
      "application/vnd.jupyter.widget-view+json": {
       "model_id": "f11bc78d6ea043c89f43bb5f83676bd5",
       "version_major": 2,
       "version_minor": 0
      },
      "text/plain": [
       "Epoch: 0:   0%|          | 0/74 [00:00<?, ?it/s]"
      ]
     },
     "metadata": {},
     "output_type": "display_data"
    },
    {
     "name": "stdout",
     "output_type": "stream",
     "text": [
      "Training loss: 0.210420072884173\n",
      "Train OKS: 0.9293376097226262\n"
     ]
    },
    {
     "data": {
      "application/vnd.jupyter.widget-view+json": {
       "model_id": "037440b16b5a4826a4312a7c69125480",
       "version_major": 2,
       "version_minor": 0
      },
      "text/plain": [
       "Epoch: 0:   0%|          | 0/11 [00:00<?, ?it/s]"
      ]
     },
     "metadata": {},
     "output_type": "display_data"
    },
    {
     "name": "stdout",
     "output_type": "stream",
     "text": [
      "Val OKS: 0.9649436933084783\n"
     ]
    },
    {
     "data": {
      "application/vnd.jupyter.widget-view+json": {
       "model_id": "feafcfea1ec440d692886a49cd777cd9",
       "version_major": 2,
       "version_minor": 0
      },
      "text/plain": [
       "Epoch: 1:   0%|          | 0/74 [00:00<?, ?it/s]"
      ]
     },
     "metadata": {},
     "output_type": "display_data"
    },
    {
     "name": "stdout",
     "output_type": "stream",
     "text": [
      "Training loss: 0.13767973565169284\n",
      "Train OKS: 0.9792009706406297\n"
     ]
    },
    {
     "data": {
      "application/vnd.jupyter.widget-view+json": {
       "model_id": "713bf5fff2004b64a10b095de86b8bfd",
       "version_major": 2,
       "version_minor": 0
      },
      "text/plain": [
       "Epoch: 1:   0%|          | 0/11 [00:00<?, ?it/s]"
      ]
     },
     "metadata": {},
     "output_type": "display_data"
    },
    {
     "name": "stdout",
     "output_type": "stream",
     "text": [
      "Val OKS: 0.9776172720947761\n"
     ]
    },
    {
     "data": {
      "application/vnd.jupyter.widget-view+json": {
       "model_id": "5bf0ebc6859847238db1c6160dbb4679",
       "version_major": 2,
       "version_minor": 0
      },
      "text/plain": [
       "Epoch: 2:   0%|          | 0/74 [00:00<?, ?it/s]"
      ]
     },
     "metadata": {},
     "output_type": "display_data"
    },
    {
     "name": "stdout",
     "output_type": "stream",
     "text": [
      "Training loss: 0.13106080308254506\n",
      "Train OKS: 0.98496611077353\n"
     ]
    },
    {
     "data": {
      "application/vnd.jupyter.widget-view+json": {
       "model_id": "b22ee2922d12404595b9a6531e973ad2",
       "version_major": 2,
       "version_minor": 0
      },
      "text/plain": [
       "Epoch: 2:   0%|          | 0/11 [00:00<?, ?it/s]"
      ]
     },
     "metadata": {},
     "output_type": "display_data"
    },
    {
     "name": "stdout",
     "output_type": "stream",
     "text": [
      "Val OKS: 0.9792791123378662\n"
     ]
    },
    {
     "data": {
      "application/vnd.jupyter.widget-view+json": {
       "model_id": "e6f0d99d86bb4dee90530b179565cded",
       "version_major": 2,
       "version_minor": 0
      },
      "text/plain": [
       "Epoch: 3:   0%|          | 0/74 [00:00<?, ?it/s]"
      ]
     },
     "metadata": {},
     "output_type": "display_data"
    },
    {
     "name": "stdout",
     "output_type": "stream",
     "text": [
      "Training loss: 0.13009319180068937\n",
      "Train OKS: 0.9860798595593029\n"
     ]
    },
    {
     "data": {
      "application/vnd.jupyter.widget-view+json": {
       "model_id": "1504e8bca1f046bdb874474b7c152e61",
       "version_major": 2,
       "version_minor": 0
      },
      "text/plain": [
       "Epoch: 3:   0%|          | 0/11 [00:00<?, ?it/s]"
      ]
     },
     "metadata": {},
     "output_type": "display_data"
    },
    {
     "name": "stdout",
     "output_type": "stream",
     "text": [
      "Val OKS: 0.9798807509671807\n"
     ]
    },
    {
     "data": {
      "application/vnd.jupyter.widget-view+json": {
       "model_id": "19f935660dd34cf5a7fe939e3c695851",
       "version_major": 2,
       "version_minor": 0
      },
      "text/plain": [
       "Epoch: 4:   0%|          | 0/74 [00:00<?, ?it/s]"
      ]
     },
     "metadata": {},
     "output_type": "display_data"
    },
    {
     "name": "stdout",
     "output_type": "stream",
     "text": [
      "Training loss: 0.1291604133926936\n",
      "Train OKS: 0.9877837690601582\n"
     ]
    },
    {
     "data": {
      "application/vnd.jupyter.widget-view+json": {
       "model_id": "ec1e3c2b651745a88d32921d006c7981",
       "version_major": 2,
       "version_minor": 0
      },
      "text/plain": [
       "Epoch: 4:   0%|          | 0/11 [00:00<?, ?it/s]"
      ]
     },
     "metadata": {},
     "output_type": "display_data"
    },
    {
     "name": "stdout",
     "output_type": "stream",
     "text": [
      "Val OKS: 0.9816433074514497\n"
     ]
    },
    {
     "data": {
      "application/vnd.jupyter.widget-view+json": {
       "model_id": "18ed57daf0c54dfea1333fbfe6905b64",
       "version_major": 2,
       "version_minor": 0
      },
      "text/plain": [
       "Epoch: 5:   0%|          | 0/74 [00:00<?, ?it/s]"
      ]
     },
     "metadata": {},
     "output_type": "display_data"
    },
    {
     "name": "stdout",
     "output_type": "stream",
     "text": [
      "Training loss: 0.1285489561489305\n",
      "Train OKS: 0.9889497205234283\n"
     ]
    },
    {
     "data": {
      "application/vnd.jupyter.widget-view+json": {
       "model_id": "bbf14ac2ce8945c182c11386e50f37b3",
       "version_major": 2,
       "version_minor": 0
      },
      "text/plain": [
       "Epoch: 5:   0%|          | 0/11 [00:00<?, ?it/s]"
      ]
     },
     "metadata": {},
     "output_type": "display_data"
    },
    {
     "name": "stdout",
     "output_type": "stream",
     "text": [
      "Val OKS: 0.9814695766417443\n"
     ]
    },
    {
     "data": {
      "application/vnd.jupyter.widget-view+json": {
       "model_id": "dbc7eb9a03d44da88a99ca624e9d8a1f",
       "version_major": 2,
       "version_minor": 0
      },
      "text/plain": [
       "Epoch: 6:   0%|          | 0/74 [00:00<?, ?it/s]"
      ]
     },
     "metadata": {},
     "output_type": "display_data"
    },
    {
     "name": "stdout",
     "output_type": "stream",
     "text": [
      "Training loss: 0.12809987466883016\n",
      "Train OKS: 0.9897902647944339\n"
     ]
    },
    {
     "data": {
      "application/vnd.jupyter.widget-view+json": {
       "model_id": "5892f2f1af644f8c9b574fcdb5f14f3c",
       "version_major": 2,
       "version_minor": 0
      },
      "text/plain": [
       "Epoch: 6:   0%|          | 0/11 [00:00<?, ?it/s]"
      ]
     },
     "metadata": {},
     "output_type": "display_data"
    },
    {
     "name": "stdout",
     "output_type": "stream",
     "text": [
      "Val OKS: 0.9828396468768468\n"
     ]
    },
    {
     "data": {
      "application/vnd.jupyter.widget-view+json": {
       "model_id": "4fca8a8cd2884317813d1cc6c5a9a6cf",
       "version_major": 2,
       "version_minor": 0
      },
      "text/plain": [
       "Epoch: 7:   0%|          | 0/74 [00:00<?, ?it/s]"
      ]
     },
     "metadata": {},
     "output_type": "display_data"
    },
    {
     "name": "stdout",
     "output_type": "stream",
     "text": [
      "Training loss: 0.12773102914562096\n",
      "Train OKS: 0.9905886483363643\n"
     ]
    },
    {
     "data": {
      "application/vnd.jupyter.widget-view+json": {
       "model_id": "330897654853492987c13b0e3fca2c81",
       "version_major": 2,
       "version_minor": 0
      },
      "text/plain": [
       "Epoch: 7:   0%|          | 0/11 [00:00<?, ?it/s]"
      ]
     },
     "metadata": {},
     "output_type": "display_data"
    },
    {
     "name": "stdout",
     "output_type": "stream",
     "text": [
      "Val OKS: 0.9832283071284394\n"
     ]
    },
    {
     "data": {
      "application/vnd.jupyter.widget-view+json": {
       "model_id": "2370b1e11f71478dae3e9c2c4231d690",
       "version_major": 2,
       "version_minor": 0
      },
      "text/plain": [
       "Epoch: 8:   0%|          | 0/74 [00:00<?, ?it/s]"
      ]
     },
     "metadata": {},
     "output_type": "display_data"
    },
    {
     "name": "stdout",
     "output_type": "stream",
     "text": [
      "Training loss: 0.12747245005055055\n",
      "Train OKS: 0.9910441046560348\n"
     ]
    },
    {
     "data": {
      "application/vnd.jupyter.widget-view+json": {
       "model_id": "10e51d2aeaf445e394d1200252a10482",
       "version_major": 2,
       "version_minor": 0
      },
      "text/plain": [
       "Epoch: 8:   0%|          | 0/11 [00:00<?, ?it/s]"
      ]
     },
     "metadata": {},
     "output_type": "display_data"
    },
    {
     "name": "stdout",
     "output_type": "stream",
     "text": [
      "Val OKS: 0.9833075029624689\n"
     ]
    },
    {
     "data": {
      "application/vnd.jupyter.widget-view+json": {
       "model_id": "8e6a0cc33f9e4b31b983069ec6db38f3",
       "version_major": 2,
       "version_minor": 0
      },
      "text/plain": [
       "Epoch: 9:   0%|          | 0/74 [00:00<?, ?it/s]"
      ]
     },
     "metadata": {},
     "output_type": "display_data"
    },
    {
     "name": "stdout",
     "output_type": "stream",
     "text": [
      "Training loss: 0.12724492837347695\n",
      "Train OKS: 0.9915445691316045\n"
     ]
    },
    {
     "data": {
      "application/vnd.jupyter.widget-view+json": {
       "model_id": "543ec949db654f2095f798b6e197b794",
       "version_major": 2,
       "version_minor": 0
      },
      "text/plain": [
       "Epoch: 9:   0%|          | 0/11 [00:00<?, ?it/s]"
      ]
     },
     "metadata": {},
     "output_type": "display_data"
    },
    {
     "name": "stdout",
     "output_type": "stream",
     "text": [
      "Val OKS: 0.9839810092255623\n"
     ]
    },
    {
     "data": {
      "application/vnd.jupyter.widget-view+json": {
       "model_id": "1d1cffcbd9bc48eaaf8ef6423abfc442",
       "version_major": 2,
       "version_minor": 0
      },
      "text/plain": [
       "Epoch: 10:   0%|          | 0/74 [00:00<?, ?it/s]"
      ]
     },
     "metadata": {},
     "output_type": "display_data"
    },
    {
     "name": "stdout",
     "output_type": "stream",
     "text": [
      "Training loss: 0.1270056141137674\n",
      "Train OKS: 0.9919961208426841\n"
     ]
    },
    {
     "data": {
      "application/vnd.jupyter.widget-view+json": {
       "model_id": "ce823d73e1db416f9a9bda12c2a80e6e",
       "version_major": 2,
       "version_minor": 0
      },
      "text/plain": [
       "Epoch: 10:   0%|          | 0/11 [00:00<?, ?it/s]"
      ]
     },
     "metadata": {},
     "output_type": "display_data"
    },
    {
     "name": "stdout",
     "output_type": "stream",
     "text": [
      "Val OKS: 0.9832538121450775\n"
     ]
    },
    {
     "data": {
      "application/vnd.jupyter.widget-view+json": {
       "model_id": "dfb71a473e414edd846eade50dc0056e",
       "version_major": 2,
       "version_minor": 0
      },
      "text/plain": [
       "Epoch: 11:   0%|          | 0/74 [00:00<?, ?it/s]"
      ]
     },
     "metadata": {},
     "output_type": "display_data"
    },
    {
     "name": "stdout",
     "output_type": "stream",
     "text": [
      "Training loss: 0.12697284724059943\n",
      "Train OKS: 0.9920115232848162\n"
     ]
    },
    {
     "data": {
      "application/vnd.jupyter.widget-view+json": {
       "model_id": "28862d57a3a4465cb8f542e21fd45c52",
       "version_major": 2,
       "version_minor": 0
      },
      "text/plain": [
       "Epoch: 11:   0%|          | 0/11 [00:00<?, ?it/s]"
      ]
     },
     "metadata": {},
     "output_type": "display_data"
    },
    {
     "name": "stdout",
     "output_type": "stream",
     "text": [
      "Val OKS: 0.9845881817865002\n"
     ]
    },
    {
     "data": {
      "application/vnd.jupyter.widget-view+json": {
       "model_id": "cba46c3dc7d549c6ac257cf0dd2de888",
       "version_major": 2,
       "version_minor": 0
      },
      "text/plain": [
       "Epoch: 12:   0%|          | 0/74 [00:00<?, ?it/s]"
      ]
     },
     "metadata": {},
     "output_type": "display_data"
    },
    {
     "name": "stdout",
     "output_type": "stream",
     "text": [
      "Training loss: 0.12661158703770992\n",
      "Train OKS: 0.9928457055794628\n"
     ]
    },
    {
     "data": {
      "application/vnd.jupyter.widget-view+json": {
       "model_id": "f1b37f7d56e74d4897bf13d80bad0f7d",
       "version_major": 2,
       "version_minor": 0
      },
      "text/plain": [
       "Epoch: 12:   0%|          | 0/11 [00:00<?, ?it/s]"
      ]
     },
     "metadata": {},
     "output_type": "display_data"
    },
    {
     "name": "stdout",
     "output_type": "stream",
     "text": [
      "Val OKS: 0.9844486661784148\n"
     ]
    },
    {
     "data": {
      "application/vnd.jupyter.widget-view+json": {
       "model_id": "88aad8c28fa44929bd60beea2d6fa933",
       "version_major": 2,
       "version_minor": 0
      },
      "text/plain": [
       "Epoch: 13:   0%|          | 0/74 [00:00<?, ?it/s]"
      ]
     },
     "metadata": {},
     "output_type": "display_data"
    },
    {
     "name": "stdout",
     "output_type": "stream",
     "text": [
      "Training loss: 0.12650056606208956\n",
      "Train OKS: 0.9929856139805044\n"
     ]
    },
    {
     "data": {
      "application/vnd.jupyter.widget-view+json": {
       "model_id": "636dd5115e544287b2bec05f48c282f7",
       "version_major": 2,
       "version_minor": 0
      },
      "text/plain": [
       "Epoch: 13:   0%|          | 0/11 [00:00<?, ?it/s]"
      ]
     },
     "metadata": {},
     "output_type": "display_data"
    },
    {
     "name": "stdout",
     "output_type": "stream",
     "text": [
      "Val OKS: 0.9850529184687656\n"
     ]
    },
    {
     "data": {
      "application/vnd.jupyter.widget-view+json": {
       "model_id": "8688bf201e4d45d0b8e4ec4bd9ac3629",
       "version_major": 2,
       "version_minor": 0
      },
      "text/plain": [
       "Epoch: 14:   0%|          | 0/74 [00:00<?, ?it/s]"
      ]
     },
     "metadata": {},
     "output_type": "display_data"
    },
    {
     "name": "stdout",
     "output_type": "stream",
     "text": [
      "Training loss: 0.12636186222772341\n",
      "Train OKS: 0.9932915245944198\n"
     ]
    },
    {
     "data": {
      "application/vnd.jupyter.widget-view+json": {
       "model_id": "f6a48f8e3e454d38accf5555f7774d1f",
       "version_major": 2,
       "version_minor": 0
      },
      "text/plain": [
       "Epoch: 14:   0%|          | 0/11 [00:00<?, ?it/s]"
      ]
     },
     "metadata": {},
     "output_type": "display_data"
    },
    {
     "name": "stdout",
     "output_type": "stream",
     "text": [
      "Val OKS: 0.9850703128332751\n"
     ]
    },
    {
     "data": {
      "application/vnd.jupyter.widget-view+json": {
       "model_id": "695ad6d216ed4c3fa582bc0e52001021",
       "version_major": 2,
       "version_minor": 0
      },
      "text/plain": [
       "Epoch: 15:   0%|          | 0/74 [00:00<?, ?it/s]"
      ]
     },
     "metadata": {},
     "output_type": "display_data"
    },
    {
     "name": "stdout",
     "output_type": "stream",
     "text": [
      "Training loss: 0.12628796074942156\n",
      "Train OKS: 0.9933802588199536\n"
     ]
    },
    {
     "data": {
      "application/vnd.jupyter.widget-view+json": {
       "model_id": "fbf0775ee624466da0c827dca0e1b349",
       "version_major": 2,
       "version_minor": 0
      },
      "text/plain": [
       "Epoch: 15:   0%|          | 0/11 [00:00<?, ?it/s]"
      ]
     },
     "metadata": {},
     "output_type": "display_data"
    },
    {
     "name": "stdout",
     "output_type": "stream",
     "text": [
      "Val OKS: 0.9848705480712151\n"
     ]
    },
    {
     "data": {
      "application/vnd.jupyter.widget-view+json": {
       "model_id": "fbcc52192dab41c297c88e66bc907409",
       "version_major": 2,
       "version_minor": 0
      },
      "text/plain": [
       "Epoch: 16:   0%|          | 0/74 [00:00<?, ?it/s]"
      ]
     },
     "metadata": {},
     "output_type": "display_data"
    },
    {
     "name": "stdout",
     "output_type": "stream",
     "text": [
      "Training loss: 0.12611881696392555\n",
      "Train OKS: 0.9937862264124424\n"
     ]
    },
    {
     "data": {
      "application/vnd.jupyter.widget-view+json": {
       "model_id": "fe8b7dfe35ea44ceb435008568a13acc",
       "version_major": 2,
       "version_minor": 0
      },
      "text/plain": [
       "Epoch: 16:   0%|          | 0/11 [00:00<?, ?it/s]"
      ]
     },
     "metadata": {},
     "output_type": "display_data"
    },
    {
     "name": "stdout",
     "output_type": "stream",
     "text": [
      "Val OKS: 0.9855057426500111\n"
     ]
    },
    {
     "data": {
      "application/vnd.jupyter.widget-view+json": {
       "model_id": "49e6a4ece3eb47d39cffebd82928e288",
       "version_major": 2,
       "version_minor": 0
      },
      "text/plain": [
       "Epoch: 17:   0%|          | 0/74 [00:00<?, ?it/s]"
      ]
     },
     "metadata": {},
     "output_type": "display_data"
    },
    {
     "name": "stdout",
     "output_type": "stream",
     "text": [
      "Training loss: 0.12587491659497893\n",
      "Train OKS: 0.9942495675702909\n"
     ]
    },
    {
     "data": {
      "application/vnd.jupyter.widget-view+json": {
       "model_id": "e26323d61d5e40b384e7fbeaa03562c2",
       "version_major": 2,
       "version_minor": 0
      },
      "text/plain": [
       "Epoch: 17:   0%|          | 0/11 [00:00<?, ?it/s]"
      ]
     },
     "metadata": {},
     "output_type": "display_data"
    },
    {
     "name": "stdout",
     "output_type": "stream",
     "text": [
      "Val OKS: 0.9852314043897976\n"
     ]
    },
    {
     "data": {
      "application/vnd.jupyter.widget-view+json": {
       "model_id": "b3d121499fae484789ed9561d325e84c",
       "version_major": 2,
       "version_minor": 0
      },
      "text/plain": [
       "Epoch: 18:   0%|          | 0/74 [00:00<?, ?it/s]"
      ]
     },
     "metadata": {},
     "output_type": "display_data"
    },
    {
     "name": "stdout",
     "output_type": "stream",
     "text": [
      "Training loss: 0.12587850754828872\n",
      "Train OKS: 0.9942272755499388\n"
     ]
    },
    {
     "data": {
      "application/vnd.jupyter.widget-view+json": {
       "model_id": "59d4c649513a4ecc89546f82b84f366d",
       "version_major": 2,
       "version_minor": 0
      },
      "text/plain": [
       "Epoch: 18:   0%|          | 0/11 [00:00<?, ?it/s]"
      ]
     },
     "metadata": {},
     "output_type": "display_data"
    },
    {
     "name": "stdout",
     "output_type": "stream",
     "text": [
      "Val OKS: 0.9858467806528652\n"
     ]
    },
    {
     "data": {
      "application/vnd.jupyter.widget-view+json": {
       "model_id": "6a760c88df224c48906a27bd0ae0d8b8",
       "version_major": 2,
       "version_minor": 0
      },
      "text/plain": [
       "Epoch: 19:   0%|          | 0/74 [00:00<?, ?it/s]"
      ]
     },
     "metadata": {},
     "output_type": "display_data"
    },
    {
     "name": "stdout",
     "output_type": "stream",
     "text": [
      "Training loss: 0.12577977235353477\n",
      "Train OKS: 0.9944435948607113\n"
     ]
    },
    {
     "data": {
      "application/vnd.jupyter.widget-view+json": {
       "model_id": "e7b3e1977d3b481db254f1fe85bb62dd",
       "version_major": 2,
       "version_minor": 0
      },
      "text/plain": [
       "Epoch: 19:   0%|          | 0/11 [00:00<?, ?it/s]"
      ]
     },
     "metadata": {},
     "output_type": "display_data"
    },
    {
     "name": "stdout",
     "output_type": "stream",
     "text": [
      "Val OKS: 0.9859153245658754\n"
     ]
    },
    {
     "data": {
      "application/vnd.jupyter.widget-view+json": {
       "model_id": "eeefb7aaaace47e6a187f995f0b9afd4",
       "version_major": 2,
       "version_minor": 0
      },
      "text/plain": [
       "Epoch: 20:   0%|          | 0/74 [00:00<?, ?it/s]"
      ]
     },
     "metadata": {},
     "output_type": "display_data"
    },
    {
     "name": "stdout",
     "output_type": "stream",
     "text": [
      "Training loss: 0.12559290361162778\n",
      "Train OKS: 0.9948122555322186\n"
     ]
    },
    {
     "data": {
      "application/vnd.jupyter.widget-view+json": {
       "model_id": "8b15adf589dd4dff8ec100e581c9d5fe",
       "version_major": 2,
       "version_minor": 0
      },
      "text/plain": [
       "Epoch: 20:   0%|          | 0/11 [00:00<?, ?it/s]"
      ]
     },
     "metadata": {},
     "output_type": "display_data"
    },
    {
     "name": "stdout",
     "output_type": "stream",
     "text": [
      "Val OKS: 0.9857163855799012\n"
     ]
    },
    {
     "data": {
      "application/vnd.jupyter.widget-view+json": {
       "model_id": "4088135eabaf47f5b7dd21209b74e605",
       "version_major": 2,
       "version_minor": 0
      },
      "text/plain": [
       "Epoch: 21:   0%|          | 0/74 [00:00<?, ?it/s]"
      ]
     },
     "metadata": {},
     "output_type": "display_data"
    },
    {
     "name": "stdout",
     "output_type": "stream",
     "text": [
      "Training loss: 0.12561922004396045\n",
      "Train OKS: 0.9947537636231486\n"
     ]
    },
    {
     "data": {
      "application/vnd.jupyter.widget-view+json": {
       "model_id": "d64793b749e74685b747eb39286249f7",
       "version_major": 2,
       "version_minor": 0
      },
      "text/plain": [
       "Epoch: 21:   0%|          | 0/11 [00:00<?, ?it/s]"
      ]
     },
     "metadata": {},
     "output_type": "display_data"
    },
    {
     "name": "stdout",
     "output_type": "stream",
     "text": [
      "Val OKS: 0.9862359452713558\n"
     ]
    },
    {
     "data": {
      "application/vnd.jupyter.widget-view+json": {
       "model_id": "b5b768a5575c4b21a668646e9647b889",
       "version_major": 2,
       "version_minor": 0
      },
      "text/plain": [
       "Epoch: 22:   0%|          | 0/74 [00:00<?, ?it/s]"
      ]
     },
     "metadata": {},
     "output_type": "display_data"
    },
    {
     "name": "stdout",
     "output_type": "stream",
     "text": [
      "Training loss: 0.12557594835556843\n",
      "Train OKS: 0.9948470200088548\n"
     ]
    },
    {
     "data": {
      "application/vnd.jupyter.widget-view+json": {
       "model_id": "338de29e1f264256a02f6bf6f9aa07af",
       "version_major": 2,
       "version_minor": 0
      },
      "text/plain": [
       "Epoch: 22:   0%|          | 0/11 [00:00<?, ?it/s]"
      ]
     },
     "metadata": {},
     "output_type": "display_data"
    },
    {
     "name": "stdout",
     "output_type": "stream",
     "text": [
      "Val OKS: 0.985728915519056\n"
     ]
    },
    {
     "data": {
      "application/vnd.jupyter.widget-view+json": {
       "model_id": "fc683ded653a42778d7d419dacdbb68a",
       "version_major": 2,
       "version_minor": 0
      },
      "text/plain": [
       "Epoch: 23:   0%|          | 0/74 [00:00<?, ?it/s]"
      ]
     },
     "metadata": {},
     "output_type": "display_data"
    },
    {
     "name": "stdout",
     "output_type": "stream",
     "text": [
      "Training loss: 0.12557160373575785\n",
      "Train OKS: 0.9948602660127867\n"
     ]
    },
    {
     "data": {
      "application/vnd.jupyter.widget-view+json": {
       "model_id": "e151a9d486464cde893772aadcb4a6b4",
       "version_major": 2,
       "version_minor": 0
      },
      "text/plain": [
       "Epoch: 23:   0%|          | 0/11 [00:00<?, ?it/s]"
      ]
     },
     "metadata": {},
     "output_type": "display_data"
    },
    {
     "name": "stdout",
     "output_type": "stream",
     "text": [
      "Val OKS: 0.9862823169613285\n"
     ]
    },
    {
     "data": {
      "application/vnd.jupyter.widget-view+json": {
       "model_id": "c8ec9b278c1d4103b4200a0e614d453d",
       "version_major": 2,
       "version_minor": 0
      },
      "text/plain": [
       "Epoch: 24:   0%|          | 0/74 [00:00<?, ?it/s]"
      ]
     },
     "metadata": {},
     "output_type": "display_data"
    },
    {
     "name": "stdout",
     "output_type": "stream",
     "text": [
      "Training loss: 0.12544534501393098\n",
      "Train OKS: 0.9951183304120953\n"
     ]
    },
    {
     "data": {
      "application/vnd.jupyter.widget-view+json": {
       "model_id": "61a8ab5c017b4cb1a01716b22072d7a0",
       "version_major": 2,
       "version_minor": 0
      },
      "text/plain": [
       "Epoch: 24:   0%|          | 0/11 [00:00<?, ?it/s]"
      ]
     },
     "metadata": {},
     "output_type": "display_data"
    },
    {
     "name": "stdout",
     "output_type": "stream",
     "text": [
      "Val OKS: 0.9857798906085693\n"
     ]
    },
    {
     "data": {
      "application/vnd.jupyter.widget-view+json": {
       "model_id": "53736a1ce1654741b7dea76cd469dac2",
       "version_major": 2,
       "version_minor": 0
      },
      "text/plain": [
       "Epoch: 25:   0%|          | 0/74 [00:00<?, ?it/s]"
      ]
     },
     "metadata": {},
     "output_type": "display_data"
    },
    {
     "name": "stdout",
     "output_type": "stream",
     "text": [
      "Training loss: 0.12545216836135936\n",
      "Train OKS: 0.9951118304257229\n"
     ]
    },
    {
     "data": {
      "application/vnd.jupyter.widget-view+json": {
       "model_id": "13ceed92ce724699909e44258f927033",
       "version_major": 2,
       "version_minor": 0
      },
      "text/plain": [
       "Epoch: 25:   0%|          | 0/11 [00:00<?, ?it/s]"
      ]
     },
     "metadata": {},
     "output_type": "display_data"
    },
    {
     "name": "stdout",
     "output_type": "stream",
     "text": [
      "Val OKS: 0.9862416501429738\n"
     ]
    },
    {
     "data": {
      "application/vnd.jupyter.widget-view+json": {
       "model_id": "908789f7bc3d4d8fada8d2dedad1cb9a",
       "version_major": 2,
       "version_minor": 0
      },
      "text/plain": [
       "Epoch: 26:   0%|          | 0/74 [00:00<?, ?it/s]"
      ]
     },
     "metadata": {},
     "output_type": "display_data"
    },
    {
     "name": "stdout",
     "output_type": "stream",
     "text": [
      "Training loss: 0.125266781479523\n",
      "Train OKS: 0.9954578691225298\n"
     ]
    },
    {
     "data": {
      "application/vnd.jupyter.widget-view+json": {
       "model_id": "e6f463038fa4406696e409f0d2a4932c",
       "version_major": 2,
       "version_minor": 0
      },
      "text/plain": [
       "Epoch: 26:   0%|          | 0/11 [00:00<?, ?it/s]"
      ]
     },
     "metadata": {},
     "output_type": "display_data"
    },
    {
     "name": "stdout",
     "output_type": "stream",
     "text": [
      "Val OKS: 0.9865807914856909\n"
     ]
    },
    {
     "data": {
      "application/vnd.jupyter.widget-view+json": {
       "model_id": "7fa97d83c3334078a876bdd827850919",
       "version_major": 2,
       "version_minor": 0
      },
      "text/plain": [
       "Epoch: 27:   0%|          | 0/74 [00:00<?, ?it/s]"
      ]
     },
     "metadata": {},
     "output_type": "display_data"
    },
    {
     "name": "stdout",
     "output_type": "stream",
     "text": [
      "Training loss: 0.12522856516109124\n",
      "Train OKS: 0.9955620692421392\n"
     ]
    },
    {
     "data": {
      "application/vnd.jupyter.widget-view+json": {
       "model_id": "b484c9c5762840c19b2a3a509e0f8a5e",
       "version_major": 2,
       "version_minor": 0
      },
      "text/plain": [
       "Epoch: 27:   0%|          | 0/11 [00:00<?, ?it/s]"
      ]
     },
     "metadata": {},
     "output_type": "display_data"
    },
    {
     "name": "stdout",
     "output_type": "stream",
     "text": [
      "Val OKS: 0.986226376749449\n"
     ]
    },
    {
     "data": {
      "application/vnd.jupyter.widget-view+json": {
       "model_id": "18879df51609469e8fe6f248f7f6940c",
       "version_major": 2,
       "version_minor": 0
      },
      "text/plain": [
       "Epoch: 28:   0%|          | 0/74 [00:00<?, ?it/s]"
      ]
     },
     "metadata": {},
     "output_type": "display_data"
    },
    {
     "name": "stdout",
     "output_type": "stream",
     "text": [
      "Training loss: 0.12521758544686679\n",
      "Train OKS: 0.9955537786355225\n"
     ]
    },
    {
     "data": {
      "application/vnd.jupyter.widget-view+json": {
       "model_id": "31f1bfb9a6b642f691425f4aacb441ff",
       "version_major": 2,
       "version_minor": 0
      },
      "text/plain": [
       "Epoch: 28:   0%|          | 0/11 [00:00<?, ?it/s]"
      ]
     },
     "metadata": {},
     "output_type": "display_data"
    },
    {
     "name": "stdout",
     "output_type": "stream",
     "text": [
      "Val OKS: 0.9862959834253281\n"
     ]
    },
    {
     "data": {
      "application/vnd.jupyter.widget-view+json": {
       "model_id": "317797025fb040b49bcc771b85e34f7a",
       "version_major": 2,
       "version_minor": 0
      },
      "text/plain": [
       "Epoch: 29:   0%|          | 0/74 [00:00<?, ?it/s]"
      ]
     },
     "metadata": {},
     "output_type": "display_data"
    },
    {
     "name": "stdout",
     "output_type": "stream",
     "text": [
      "Training loss: 0.12515781658726768\n",
      "Train OKS: 0.9956716513901315\n"
     ]
    },
    {
     "data": {
      "application/vnd.jupyter.widget-view+json": {
       "model_id": "05c912bab89d47418cde2b936a5c835f",
       "version_major": 2,
       "version_minor": 0
      },
      "text/plain": [
       "Epoch: 29:   0%|          | 0/11 [00:00<?, ?it/s]"
      ]
     },
     "metadata": {},
     "output_type": "display_data"
    },
    {
     "name": "stdout",
     "output_type": "stream",
     "text": [
      "Val OKS: 0.9862979405985217\n"
     ]
    },
    {
     "data": {
      "application/vnd.jupyter.widget-view+json": {
       "model_id": "0c1cf3dcd539432cab6788a6ab94e72d",
       "version_major": 2,
       "version_minor": 0
      },
      "text/plain": [
       "Epoch: 30:   0%|          | 0/74 [00:00<?, ?it/s]"
      ]
     },
     "metadata": {},
     "output_type": "display_data"
    },
    {
     "name": "stdout",
     "output_type": "stream",
     "text": [
      "Training loss: 0.12519985714272872\n",
      "Train OKS: 0.9956186656536689\n"
     ]
    },
    {
     "data": {
      "application/vnd.jupyter.widget-view+json": {
       "model_id": "50519aa0a91c4034bb7bccc4caac39a1",
       "version_major": 2,
       "version_minor": 0
      },
      "text/plain": [
       "Epoch: 30:   0%|          | 0/11 [00:00<?, ?it/s]"
      ]
     },
     "metadata": {},
     "output_type": "display_data"
    },
    {
     "name": "stdout",
     "output_type": "stream",
     "text": [
      "Val OKS: 0.9864070534344792\n"
     ]
    },
    {
     "data": {
      "application/vnd.jupyter.widget-view+json": {
       "model_id": "f46887e2c4504414b17e4498125ac216",
       "version_major": 2,
       "version_minor": 0
      },
      "text/plain": [
       "Epoch: 31:   0%|          | 0/74 [00:00<?, ?it/s]"
      ]
     },
     "metadata": {},
     "output_type": "display_data"
    },
    {
     "name": "stdout",
     "output_type": "stream",
     "text": [
      "Training loss: 0.1252113388649918\n",
      "Train OKS: 0.9955791045957815\n"
     ]
    },
    {
     "data": {
      "application/vnd.jupyter.widget-view+json": {
       "model_id": "23d3a2472da4441ab203288e92ec9b91",
       "version_major": 2,
       "version_minor": 0
      },
      "text/plain": [
       "Epoch: 31:   0%|          | 0/11 [00:00<?, ?it/s]"
      ]
     },
     "metadata": {},
     "output_type": "display_data"
    },
    {
     "name": "stdout",
     "output_type": "stream",
     "text": [
      "Val OKS: 0.9867921746036281\n"
     ]
    },
    {
     "data": {
      "application/vnd.jupyter.widget-view+json": {
       "model_id": "64d8603134694aa5b37f0757867c5c24",
       "version_major": 2,
       "version_minor": 0
      },
      "text/plain": [
       "Epoch: 32:   0%|          | 0/74 [00:00<?, ?it/s]"
      ]
     },
     "metadata": {},
     "output_type": "display_data"
    },
    {
     "name": "stdout",
     "output_type": "stream",
     "text": [
      "Training loss: 0.12514997251029755\n",
      "Train OKS: 0.9957023325584694\n"
     ]
    },
    {
     "data": {
      "application/vnd.jupyter.widget-view+json": {
       "model_id": "c8d4431a985c4ae59107cb3c23c1a012",
       "version_major": 2,
       "version_minor": 0
      },
      "text/plain": [
       "Epoch: 32:   0%|          | 0/11 [00:00<?, ?it/s]"
      ]
     },
     "metadata": {},
     "output_type": "display_data"
    },
    {
     "name": "stdout",
     "output_type": "stream",
     "text": [
      "Val OKS: 0.9861569939348439\n"
     ]
    },
    {
     "data": {
      "application/vnd.jupyter.widget-view+json": {
       "model_id": "25c15f61d29e41a1be4e08dbcf3d1a21",
       "version_major": 2,
       "version_minor": 0
      },
      "text/plain": [
       "Epoch: 33:   0%|          | 0/74 [00:00<?, ?it/s]"
      ]
     },
     "metadata": {},
     "output_type": "display_data"
    },
    {
     "name": "stdout",
     "output_type": "stream",
     "text": [
      "Training loss: 0.12503929967312394\n",
      "Train OKS: 0.9959230219621017\n"
     ]
    },
    {
     "data": {
      "application/vnd.jupyter.widget-view+json": {
       "model_id": "f3fb811ef54845e597024c6cf14eddec",
       "version_major": 2,
       "version_minor": 0
      },
      "text/plain": [
       "Epoch: 33:   0%|          | 0/11 [00:00<?, ?it/s]"
      ]
     },
     "metadata": {},
     "output_type": "display_data"
    },
    {
     "name": "stdout",
     "output_type": "stream",
     "text": [
      "Val OKS: 0.9873291710157079\n"
     ]
    },
    {
     "data": {
      "application/vnd.jupyter.widget-view+json": {
       "model_id": "04bd2bc45a4d491aba83bac8a4c453f3",
       "version_major": 2,
       "version_minor": 0
      },
      "text/plain": [
       "Epoch: 34:   0%|          | 0/74 [00:00<?, ?it/s]"
      ]
     },
     "metadata": {},
     "output_type": "display_data"
    },
    {
     "name": "stdout",
     "output_type": "stream",
     "text": [
      "Training loss: 0.12495663135337669\n",
      "Train OKS: 0.9960933530585192\n"
     ]
    },
    {
     "data": {
      "application/vnd.jupyter.widget-view+json": {
       "model_id": "bd3c31b7ccd740588ef5b7f8877d05d9",
       "version_major": 2,
       "version_minor": 0
      },
      "text/plain": [
       "Epoch: 34:   0%|          | 0/11 [00:00<?, ?it/s]"
      ]
     },
     "metadata": {},
     "output_type": "display_data"
    },
    {
     "name": "stdout",
     "output_type": "stream",
     "text": [
      "Val OKS: 0.9871000176106159\n"
     ]
    },
    {
     "data": {
      "application/vnd.jupyter.widget-view+json": {
       "model_id": "7b9ed9731c6b4d89a44bd8521cebd14c",
       "version_major": 2,
       "version_minor": 0
      },
      "text/plain": [
       "Epoch: 35:   0%|          | 0/74 [00:00<?, ?it/s]"
      ]
     },
     "metadata": {},
     "output_type": "display_data"
    },
    {
     "name": "stdout",
     "output_type": "stream",
     "text": [
      "Training loss: 0.12488653384954543\n",
      "Train OKS: 0.9962481226125316\n"
     ]
    },
    {
     "data": {
      "application/vnd.jupyter.widget-view+json": {
       "model_id": "77ab1e0c257c442baa8d7c2b7d12011b",
       "version_major": 2,
       "version_minor": 0
      },
      "text/plain": [
       "Epoch: 35:   0%|          | 0/11 [00:00<?, ?it/s]"
      ]
     },
     "metadata": {},
     "output_type": "display_data"
    },
    {
     "name": "stdout",
     "output_type": "stream",
     "text": [
      "Val OKS: 0.9867948925276351\n"
     ]
    },
    {
     "data": {
      "application/vnd.jupyter.widget-view+json": {
       "model_id": "bb90abdeecae472a9a60a3c5f2b76d75",
       "version_major": 2,
       "version_minor": 0
      },
      "text/plain": [
       "Epoch: 36:   0%|          | 0/74 [00:00<?, ?it/s]"
      ]
     },
     "metadata": {},
     "output_type": "display_data"
    },
    {
     "name": "stdout",
     "output_type": "stream",
     "text": [
      "Training loss: 0.12488667052742597\n",
      "Train OKS: 0.9962404938584835\n"
     ]
    },
    {
     "data": {
      "application/vnd.jupyter.widget-view+json": {
       "model_id": "c4a1a936254c498988a10665fc1ec476",
       "version_major": 2,
       "version_minor": 0
      },
      "text/plain": [
       "Epoch: 36:   0%|          | 0/11 [00:00<?, ?it/s]"
      ]
     },
     "metadata": {},
     "output_type": "display_data"
    },
    {
     "name": "stdout",
     "output_type": "stream",
     "text": [
      "Val OKS: 0.9872729887561397\n"
     ]
    },
    {
     "data": {
      "application/vnd.jupyter.widget-view+json": {
       "model_id": "5c82b7b5be734d1bbbcecb3bd0ba788d",
       "version_major": 2,
       "version_minor": 0
      },
      "text/plain": [
       "Epoch: 37:   0%|          | 0/74 [00:00<?, ?it/s]"
      ]
     },
     "metadata": {},
     "output_type": "display_data"
    },
    {
     "name": "stdout",
     "output_type": "stream",
     "text": [
      "Training loss: 0.12490691098611097\n",
      "Train OKS: 0.996174044628888\n"
     ]
    },
    {
     "data": {
      "application/vnd.jupyter.widget-view+json": {
       "model_id": "41ee1a84d7c44325bae6acb3e90909a1",
       "version_major": 2,
       "version_minor": 0
      },
      "text/plain": [
       "Epoch: 37:   0%|          | 0/11 [00:00<?, ?it/s]"
      ]
     },
     "metadata": {},
     "output_type": "display_data"
    },
    {
     "name": "stdout",
     "output_type": "stream",
     "text": [
      "Val OKS: 0.9872897054106814\n"
     ]
    },
    {
     "data": {
      "application/vnd.jupyter.widget-view+json": {
       "model_id": "ae4d2b974c8842c6ada9cb26e1a02893",
       "version_major": 2,
       "version_minor": 0
      },
      "text/plain": [
       "Epoch: 38:   0%|          | 0/74 [00:00<?, ?it/s]"
      ]
     },
     "metadata": {},
     "output_type": "display_data"
    },
    {
     "name": "stdout",
     "output_type": "stream",
     "text": [
      "Training loss: 0.1248331882714017\n",
      "Train OKS: 0.9963553951285865\n"
     ]
    },
    {
     "data": {
      "application/vnd.jupyter.widget-view+json": {
       "model_id": "ecd07d6b29b54d89afbd78cf00624e45",
       "version_major": 2,
       "version_minor": 0
      },
      "text/plain": [
       "Epoch: 38:   0%|          | 0/11 [00:00<?, ?it/s]"
      ]
     },
     "metadata": {},
     "output_type": "display_data"
    },
    {
     "name": "stdout",
     "output_type": "stream",
     "text": [
      "Val OKS: 0.987419960522214\n"
     ]
    },
    {
     "data": {
      "application/vnd.jupyter.widget-view+json": {
       "model_id": "cd720b7a09684da6992ca33c9a4a3ff2",
       "version_major": 2,
       "version_minor": 0
      },
      "text/plain": [
       "Epoch: 39:   0%|          | 0/74 [00:00<?, ?it/s]"
      ]
     },
     "metadata": {},
     "output_type": "display_data"
    },
    {
     "name": "stdout",
     "output_type": "stream",
     "text": [
      "Training loss: 0.12478601738709856\n",
      "Train OKS: 0.996436202272593\n"
     ]
    },
    {
     "data": {
      "application/vnd.jupyter.widget-view+json": {
       "model_id": "54c2ff71d2e14307a60d20451749bec1",
       "version_major": 2,
       "version_minor": 0
      },
      "text/plain": [
       "Epoch: 39:   0%|          | 0/11 [00:00<?, ?it/s]"
      ]
     },
     "metadata": {},
     "output_type": "display_data"
    },
    {
     "name": "stdout",
     "output_type": "stream",
     "text": [
      "Val OKS: 0.9872678854013789\n"
     ]
    },
    {
     "data": {
      "application/vnd.jupyter.widget-view+json": {
       "model_id": "91940ed3708c458e9e4680caa68bcb55",
       "version_major": 2,
       "version_minor": 0
      },
      "text/plain": [
       "Epoch: 40:   0%|          | 0/74 [00:00<?, ?it/s]"
      ]
     },
     "metadata": {},
     "output_type": "display_data"
    },
    {
     "name": "stdout",
     "output_type": "stream",
     "text": [
      "Training loss: 0.12480546861282878\n",
      "Train OKS: 0.996368222414344\n"
     ]
    },
    {
     "data": {
      "application/vnd.jupyter.widget-view+json": {
       "model_id": "60b48739fd3d426f8661de4aa8b52d9a",
       "version_major": 2,
       "version_minor": 0
      },
      "text/plain": [
       "Epoch: 40:   0%|          | 0/11 [00:00<?, ?it/s]"
      ]
     },
     "metadata": {},
     "output_type": "display_data"
    },
    {
     "name": "stdout",
     "output_type": "stream",
     "text": [
      "Val OKS: 0.9871065708209946\n"
     ]
    },
    {
     "data": {
      "application/vnd.jupyter.widget-view+json": {
       "model_id": "d3c07ac1ad98487bbfc8d0726349046c",
       "version_major": 2,
       "version_minor": 0
      },
      "text/plain": [
       "Epoch: 41:   0%|          | 0/74 [00:00<?, ?it/s]"
      ]
     },
     "metadata": {},
     "output_type": "display_data"
    },
    {
     "name": "stdout",
     "output_type": "stream",
     "text": [
      "Training loss: 0.12479704998534273\n",
      "Train OKS: 0.9964410486469628\n"
     ]
    },
    {
     "data": {
      "application/vnd.jupyter.widget-view+json": {
       "model_id": "c4856b5268264ae58fa0409fa2a5e6cb",
       "version_major": 2,
       "version_minor": 0
      },
      "text/plain": [
       "Epoch: 41:   0%|          | 0/11 [00:00<?, ?it/s]"
      ]
     },
     "metadata": {},
     "output_type": "display_data"
    },
    {
     "name": "stdout",
     "output_type": "stream",
     "text": [
      "Val OKS: 0.9873799937399432\n"
     ]
    },
    {
     "data": {
      "application/vnd.jupyter.widget-view+json": {
       "model_id": "22e93a8e721d4fdaad912e3506d2c87e",
       "version_major": 2,
       "version_minor": 0
      },
      "text/plain": [
       "Epoch: 42:   0%|          | 0/74 [00:00<?, ?it/s]"
      ]
     },
     "metadata": {},
     "output_type": "display_data"
    },
    {
     "name": "stdout",
     "output_type": "stream",
     "text": [
      "Training loss: 0.12477252998615841\n",
      "Train OKS: 0.9964600770753042\n"
     ]
    },
    {
     "data": {
      "application/vnd.jupyter.widget-view+json": {
       "model_id": "ec4fa00166cb41af87288dd12e6587b9",
       "version_major": 2,
       "version_minor": 0
      },
      "text/plain": [
       "Epoch: 42:   0%|          | 0/11 [00:00<?, ?it/s]"
      ]
     },
     "metadata": {},
     "output_type": "display_data"
    },
    {
     "name": "stdout",
     "output_type": "stream",
     "text": [
      "Val OKS: 0.9876313709545206\n"
     ]
    },
    {
     "data": {
      "application/vnd.jupyter.widget-view+json": {
       "model_id": "494863b124c84152ab46e4a148803801",
       "version_major": 2,
       "version_minor": 0
      },
      "text/plain": [
       "Epoch: 43:   0%|          | 0/74 [00:00<?, ?it/s]"
      ]
     },
     "metadata": {},
     "output_type": "display_data"
    },
    {
     "name": "stdout",
     "output_type": "stream",
     "text": [
      "Training loss: 0.12475446286938481\n",
      "Train OKS: 0.9964943894298726\n"
     ]
    },
    {
     "data": {
      "application/vnd.jupyter.widget-view+json": {
       "model_id": "414c2b10b59e441dae8677578ac66619",
       "version_major": 2,
       "version_minor": 0
      },
      "text/plain": [
       "Epoch: 43:   0%|          | 0/11 [00:00<?, ?it/s]"
      ]
     },
     "metadata": {},
     "output_type": "display_data"
    },
    {
     "name": "stdout",
     "output_type": "stream",
     "text": [
      "Val OKS: 0.9876966021945252\n"
     ]
    },
    {
     "data": {
      "application/vnd.jupyter.widget-view+json": {
       "model_id": "ca81084bb2aa4dab88953ce10941993b",
       "version_major": 2,
       "version_minor": 0
      },
      "text/plain": [
       "Epoch: 44:   0%|          | 0/74 [00:00<?, ?it/s]"
      ]
     },
     "metadata": {},
     "output_type": "display_data"
    },
    {
     "name": "stdout",
     "output_type": "stream",
     "text": [
      "Training loss: 0.12473573621261765\n",
      "Train OKS: 0.9965472475049206\n"
     ]
    },
    {
     "data": {
      "application/vnd.jupyter.widget-view+json": {
       "model_id": "b882d84d1cb5426ea076c98f4b03ce98",
       "version_major": 2,
       "version_minor": 0
      },
      "text/plain": [
       "Epoch: 44:   0%|          | 0/11 [00:00<?, ?it/s]"
      ]
     },
     "metadata": {},
     "output_type": "display_data"
    },
    {
     "name": "stdout",
     "output_type": "stream",
     "text": [
      "Val OKS: 0.9876795771743583\n"
     ]
    },
    {
     "data": {
      "application/vnd.jupyter.widget-view+json": {
       "model_id": "116cab7565434c268904eb574216b726",
       "version_major": 2,
       "version_minor": 0
      },
      "text/plain": [
       "Epoch: 45:   0%|          | 0/74 [00:00<?, ?it/s]"
      ]
     },
     "metadata": {},
     "output_type": "display_data"
    },
    {
     "name": "stdout",
     "output_type": "stream",
     "text": [
      "Training loss: 0.12467826527820246\n",
      "Train OKS: 0.9966640087763072\n"
     ]
    },
    {
     "data": {
      "application/vnd.jupyter.widget-view+json": {
       "model_id": "9e96884ef601479f8553997ec3a01ccb",
       "version_major": 2,
       "version_minor": 0
      },
      "text/plain": [
       "Epoch: 45:   0%|          | 0/11 [00:00<?, ?it/s]"
      ]
     },
     "metadata": {},
     "output_type": "display_data"
    },
    {
     "name": "stdout",
     "output_type": "stream",
     "text": [
      "Val OKS: 0.987344119648574\n"
     ]
    },
    {
     "data": {
      "application/vnd.jupyter.widget-view+json": {
       "model_id": "87b6d3299b7245b5999e8cced27e2b21",
       "version_major": 2,
       "version_minor": 0
      },
      "text/plain": [
       "Epoch: 46:   0%|          | 0/74 [00:00<?, ?it/s]"
      ]
     },
     "metadata": {},
     "output_type": "display_data"
    },
    {
     "name": "stdout",
     "output_type": "stream",
     "text": [
      "Training loss: 0.12462296752208793\n",
      "Train OKS: 0.99675845117275\n"
     ]
    },
    {
     "data": {
      "application/vnd.jupyter.widget-view+json": {
       "model_id": "453cf8814e264ac58886a50044660315",
       "version_major": 2,
       "version_minor": 0
      },
      "text/plain": [
       "Epoch: 46:   0%|          | 0/11 [00:00<?, ?it/s]"
      ]
     },
     "metadata": {},
     "output_type": "display_data"
    },
    {
     "name": "stdout",
     "output_type": "stream",
     "text": [
      "Val OKS: 0.9878243413664068\n"
     ]
    },
    {
     "data": {
      "application/vnd.jupyter.widget-view+json": {
       "model_id": "cce8418cabd34b4d83f7186ee2be8e0d",
       "version_major": 2,
       "version_minor": 0
      },
      "text/plain": [
       "Epoch: 47:   0%|          | 0/74 [00:00<?, ?it/s]"
      ]
     },
     "metadata": {},
     "output_type": "display_data"
    },
    {
     "name": "stdout",
     "output_type": "stream",
     "text": [
      "Training loss: 0.12459398378190156\n",
      "Train OKS: 0.996815475836996\n"
     ]
    },
    {
     "data": {
      "application/vnd.jupyter.widget-view+json": {
       "model_id": "6c2a100ed89b4289acf522a5f8704891",
       "version_major": 2,
       "version_minor": 0
      },
      "text/plain": [
       "Epoch: 47:   0%|          | 0/11 [00:00<?, ?it/s]"
      ]
     },
     "metadata": {},
     "output_type": "display_data"
    },
    {
     "name": "stdout",
     "output_type": "stream",
     "text": [
      "Val OKS: 0.9877347719745105\n"
     ]
    },
    {
     "data": {
      "application/vnd.jupyter.widget-view+json": {
       "model_id": "d4f758eb58df42119efde319eb0b5826",
       "version_major": 2,
       "version_minor": 0
      },
      "text/plain": [
       "Epoch: 48:   0%|          | 0/74 [00:00<?, ?it/s]"
      ]
     },
     "metadata": {},
     "output_type": "display_data"
    },
    {
     "name": "stdout",
     "output_type": "stream",
     "text": [
      "Training loss: 0.1246932683814619\n",
      "Train OKS: 0.9966403029763138\n"
     ]
    },
    {
     "data": {
      "application/vnd.jupyter.widget-view+json": {
       "model_id": "3d76183e89d84b4e988bcc5ecec4a8a7",
       "version_major": 2,
       "version_minor": 0
      },
      "text/plain": [
       "Epoch: 48:   0%|          | 0/11 [00:00<?, ?it/s]"
      ]
     },
     "metadata": {},
     "output_type": "display_data"
    },
    {
     "name": "stdout",
     "output_type": "stream",
     "text": [
      "Val OKS: 0.9877393520076084\n"
     ]
    },
    {
     "data": {
      "application/vnd.jupyter.widget-view+json": {
       "model_id": "b88b4e93e3e8452593bc78b601952f74",
       "version_major": 2,
       "version_minor": 0
      },
      "text/plain": [
       "Epoch: 49:   0%|          | 0/74 [00:00<?, ?it/s]"
      ]
     },
     "metadata": {},
     "output_type": "display_data"
    },
    {
     "name": "stdout",
     "output_type": "stream",
     "text": [
      "Training loss: 0.12455601459117355\n",
      "Train OKS: 0.9968990846412444\n"
     ]
    },
    {
     "data": {
      "application/vnd.jupyter.widget-view+json": {
       "model_id": "86d9a16c01da42e596e10d7a636edcf0",
       "version_major": 2,
       "version_minor": 0
      },
      "text/plain": [
       "Epoch: 49:   0%|          | 0/11 [00:00<?, ?it/s]"
      ]
     },
     "metadata": {},
     "output_type": "display_data"
    },
    {
     "name": "stdout",
     "output_type": "stream",
     "text": [
      "Val OKS: 0.9876053809961638\n"
     ]
    },
    {
     "data": {
      "application/vnd.jupyter.widget-view+json": {
       "model_id": "04de1a669f834237a94b089dc13d5773",
       "version_major": 2,
       "version_minor": 0
      },
      "text/plain": [
       "Epoch: 50:   0%|          | 0/74 [00:00<?, ?it/s]"
      ]
     },
     "metadata": {},
     "output_type": "display_data"
    },
    {
     "name": "stdout",
     "output_type": "stream",
     "text": [
      "Training loss: 0.12455934366664372\n",
      "Train OKS: 0.9968794983275701\n"
     ]
    },
    {
     "data": {
      "application/vnd.jupyter.widget-view+json": {
       "model_id": "dc2ca0f9a0454de6bfa7566103a19d82",
       "version_major": 2,
       "version_minor": 0
      },
      "text/plain": [
       "Epoch: 50:   0%|          | 0/11 [00:00<?, ?it/s]"
      ]
     },
     "metadata": {},
     "output_type": "display_data"
    },
    {
     "name": "stdout",
     "output_type": "stream",
     "text": [
      "Val OKS: 0.9876626403840969\n"
     ]
    },
    {
     "data": {
      "application/vnd.jupyter.widget-view+json": {
       "model_id": "fdf22765ae724acaa00998aa0c8b742a",
       "version_major": 2,
       "version_minor": 0
      },
      "text/plain": [
       "Epoch: 51:   0%|          | 0/74 [00:00<?, ?it/s]"
      ]
     },
     "metadata": {},
     "output_type": "display_data"
    },
    {
     "name": "stdout",
     "output_type": "stream",
     "text": [
      "Training loss: 0.1245581256477414\n",
      "Train OKS: 0.9969003503504761\n"
     ]
    },
    {
     "data": {
      "application/vnd.jupyter.widget-view+json": {
       "model_id": "cb965c9572ee4fa2965c4fb738248013",
       "version_major": 2,
       "version_minor": 0
      },
      "text/plain": [
       "Epoch: 51:   0%|          | 0/11 [00:00<?, ?it/s]"
      ]
     },
     "metadata": {},
     "output_type": "display_data"
    },
    {
     "name": "stdout",
     "output_type": "stream",
     "text": [
      "Val OKS: 0.9873953854218507\n"
     ]
    },
    {
     "data": {
      "application/vnd.jupyter.widget-view+json": {
       "model_id": "55a2742bf9724303ac8abd333821c2ed",
       "version_major": 2,
       "version_minor": 0
      },
      "text/plain": [
       "Epoch: 52:   0%|          | 0/74 [00:00<?, ?it/s]"
      ]
     },
     "metadata": {},
     "output_type": "display_data"
    },
    {
     "name": "stdout",
     "output_type": "stream",
     "text": [
      "Training loss: 0.12456688443450509\n",
      "Train OKS: 0.996874670891394\n"
     ]
    },
    {
     "data": {
      "application/vnd.jupyter.widget-view+json": {
       "model_id": "aacbff68a1ac4f5582e058adb34ddbe0",
       "version_major": 2,
       "version_minor": 0
      },
      "text/plain": [
       "Epoch: 52:   0%|          | 0/11 [00:00<?, ?it/s]"
      ]
     },
     "metadata": {},
     "output_type": "display_data"
    },
    {
     "name": "stdout",
     "output_type": "stream",
     "text": [
      "Val OKS: 0.9878776303258393\n"
     ]
    },
    {
     "data": {
      "application/vnd.jupyter.widget-view+json": {
       "model_id": "55b875e3135f41dbb5f1363f14f09f05",
       "version_major": 2,
       "version_minor": 0
      },
      "text/plain": [
       "Epoch: 53:   0%|          | 0/74 [00:00<?, ?it/s]"
      ]
     },
     "metadata": {},
     "output_type": "display_data"
    },
    {
     "name": "stdout",
     "output_type": "stream",
     "text": [
      "Training loss: 0.1245194331969361\n",
      "Train OKS: 0.9969742618004667\n"
     ]
    },
    {
     "data": {
      "application/vnd.jupyter.widget-view+json": {
       "model_id": "dd087c317a604658b8390e04ef01649d",
       "version_major": 2,
       "version_minor": 0
      },
      "text/plain": [
       "Epoch: 53:   0%|          | 0/11 [00:00<?, ?it/s]"
      ]
     },
     "metadata": {},
     "output_type": "display_data"
    },
    {
     "name": "stdout",
     "output_type": "stream",
     "text": [
      "Val OKS: 0.9875715101204979\n"
     ]
    },
    {
     "data": {
      "application/vnd.jupyter.widget-view+json": {
       "model_id": "ea361ac845814b8aab1964cd4c73a648",
       "version_major": 2,
       "version_minor": 0
      },
      "text/plain": [
       "Epoch: 54:   0%|          | 0/74 [00:00<?, ?it/s]"
      ]
     },
     "metadata": {},
     "output_type": "display_data"
    },
    {
     "name": "stdout",
     "output_type": "stream",
     "text": [
      "Training loss: 0.12453596397126848\n",
      "Train OKS: 0.9969294013561505\n"
     ]
    },
    {
     "data": {
      "application/vnd.jupyter.widget-view+json": {
       "model_id": "6b82d5022d1d482ca5f4e4d4b4954d0d",
       "version_major": 2,
       "version_minor": 0
      },
      "text/plain": [
       "Epoch: 54:   0%|          | 0/11 [00:00<?, ?it/s]"
      ]
     },
     "metadata": {},
     "output_type": "display_data"
    },
    {
     "name": "stdout",
     "output_type": "stream",
     "text": [
      "Val OKS: 0.9876357125049186\n"
     ]
    },
    {
     "data": {
      "application/vnd.jupyter.widget-view+json": {
       "model_id": "c4f73d804b03436e9c215f245e0ed569",
       "version_major": 2,
       "version_minor": 0
      },
      "text/plain": [
       "Epoch: 55:   0%|          | 0/74 [00:00<?, ?it/s]"
      ]
     },
     "metadata": {},
     "output_type": "display_data"
    },
    {
     "name": "stdout",
     "output_type": "stream",
     "text": [
      "Training loss: 0.12450097342701377\n",
      "Train OKS: 0.9970175512881444\n"
     ]
    },
    {
     "data": {
      "application/vnd.jupyter.widget-view+json": {
       "model_id": "16c326f5d33d4effa254d4ab7b1a272f",
       "version_major": 2,
       "version_minor": 0
      },
      "text/plain": [
       "Epoch: 55:   0%|          | 0/11 [00:00<?, ?it/s]"
      ]
     },
     "metadata": {},
     "output_type": "display_data"
    },
    {
     "name": "stdout",
     "output_type": "stream",
     "text": [
      "Val OKS: 0.987854828917903\n"
     ]
    },
    {
     "data": {
      "application/vnd.jupyter.widget-view+json": {
       "model_id": "b5d4e04533894dbba8c5cedf9a54dd91",
       "version_major": 2,
       "version_minor": 0
      },
      "text/plain": [
       "Epoch: 56:   0%|          | 0/74 [00:00<?, ?it/s]"
      ]
     },
     "metadata": {},
     "output_type": "display_data"
    },
    {
     "name": "stdout",
     "output_type": "stream",
     "text": [
      "Training loss: 0.12443823810364749\n",
      "Train OKS: 0.9971402269168022\n"
     ]
    },
    {
     "data": {
      "application/vnd.jupyter.widget-view+json": {
       "model_id": "2eb835f523de4d2eb25c0b6f9d01f0b2",
       "version_major": 2,
       "version_minor": 0
      },
      "text/plain": [
       "Epoch: 56:   0%|          | 0/11 [00:00<?, ?it/s]"
      ]
     },
     "metadata": {},
     "output_type": "display_data"
    },
    {
     "name": "stdout",
     "output_type": "stream",
     "text": [
      "Val OKS: 0.9877898359661562\n"
     ]
    },
    {
     "data": {
      "application/vnd.jupyter.widget-view+json": {
       "model_id": "5f1b2213227140d2a4dd1bed329d4cd8",
       "version_major": 2,
       "version_minor": 0
      },
      "text/plain": [
       "Epoch: 57:   0%|          | 0/74 [00:00<?, ?it/s]"
      ]
     },
     "metadata": {},
     "output_type": "display_data"
    },
    {
     "name": "stdout",
     "output_type": "stream",
     "text": [
      "Training loss: 0.12443158012890332\n",
      "Train OKS: 0.9971624517013491\n"
     ]
    },
    {
     "data": {
      "application/vnd.jupyter.widget-view+json": {
       "model_id": "c9ef38b1c40f4f87883c3af4cb580dba",
       "version_major": 2,
       "version_minor": 0
      },
      "text/plain": [
       "Epoch: 57:   0%|          | 0/11 [00:00<?, ?it/s]"
      ]
     },
     "metadata": {},
     "output_type": "display_data"
    },
    {
     "name": "stdout",
     "output_type": "stream",
     "text": [
      "Val OKS: 0.9879996343528735\n"
     ]
    },
    {
     "data": {
      "application/vnd.jupyter.widget-view+json": {
       "model_id": "1cd96a90a69a41f997b70694f5eff759",
       "version_major": 2,
       "version_minor": 0
      },
      "text/plain": [
       "Epoch: 58:   0%|          | 0/74 [00:00<?, ?it/s]"
      ]
     },
     "metadata": {},
     "output_type": "display_data"
    },
    {
     "name": "stdout",
     "output_type": "stream",
     "text": [
      "Training loss: 0.12444859383174696\n",
      "Train OKS: 0.9970988914120162\n"
     ]
    },
    {
     "data": {
      "application/vnd.jupyter.widget-view+json": {
       "model_id": "e8c13664b3574972978985391ecc0509",
       "version_major": 2,
       "version_minor": 0
      },
      "text/plain": [
       "Epoch: 58:   0%|          | 0/11 [00:00<?, ?it/s]"
      ]
     },
     "metadata": {},
     "output_type": "display_data"
    },
    {
     "name": "stdout",
     "output_type": "stream",
     "text": [
      "Val OKS: 0.988138428073873\n"
     ]
    },
    {
     "data": {
      "application/vnd.jupyter.widget-view+json": {
       "model_id": "0333ebae5a8141e398bb1782f9ce36dc",
       "version_major": 2,
       "version_minor": 0
      },
      "text/plain": [
       "Epoch: 59:   0%|          | 0/74 [00:00<?, ?it/s]"
      ]
     },
     "metadata": {},
     "output_type": "display_data"
    },
    {
     "name": "stdout",
     "output_type": "stream",
     "text": [
      "Training loss: 0.1244093971578656\n",
      "Train OKS: 0.9971913365542339\n"
     ]
    },
    {
     "data": {
      "application/vnd.jupyter.widget-view+json": {
       "model_id": "ae9bcc649941441fac0909255cb31a89",
       "version_major": 2,
       "version_minor": 0
      },
      "text/plain": [
       "Epoch: 59:   0%|          | 0/11 [00:00<?, ?it/s]"
      ]
     },
     "metadata": {},
     "output_type": "display_data"
    },
    {
     "name": "stdout",
     "output_type": "stream",
     "text": [
      "Val OKS: 0.98790175237518\n"
     ]
    },
    {
     "data": {
      "application/vnd.jupyter.widget-view+json": {
       "model_id": "8d24b3cb87ce4cd688f063f8d0c9225e",
       "version_major": 2,
       "version_minor": 0
      },
      "text/plain": [
       "Epoch: 60:   0%|          | 0/74 [00:00<?, ?it/s]"
      ]
     },
     "metadata": {},
     "output_type": "display_data"
    },
    {
     "name": "stdout",
     "output_type": "stream",
     "text": [
      "Training loss: 0.12435904159084768\n",
      "Train OKS: 0.9973158076243442\n"
     ]
    },
    {
     "data": {
      "application/vnd.jupyter.widget-view+json": {
       "model_id": "095d522a182d4886abbf8021674f3d3a",
       "version_major": 2,
       "version_minor": 0
      },
      "text/plain": [
       "Epoch: 60:   0%|          | 0/11 [00:00<?, ?it/s]"
      ]
     },
     "metadata": {},
     "output_type": "display_data"
    },
    {
     "name": "stdout",
     "output_type": "stream",
     "text": [
      "Val OKS: 0.9885224242659469\n"
     ]
    },
    {
     "data": {
      "application/vnd.jupyter.widget-view+json": {
       "model_id": "7001bca2f0cf47ad9282efffe7bb540d",
       "version_major": 2,
       "version_minor": 0
      },
      "text/plain": [
       "Epoch: 61:   0%|          | 0/74 [00:00<?, ?it/s]"
      ]
     },
     "metadata": {},
     "output_type": "display_data"
    },
    {
     "name": "stdout",
     "output_type": "stream",
     "text": [
      "Training loss: 0.12439933501032961\n",
      "Train OKS: 0.9972083619461355\n"
     ]
    },
    {
     "data": {
      "application/vnd.jupyter.widget-view+json": {
       "model_id": "75da8c877350426ba7448379708bb354",
       "version_major": 2,
       "version_minor": 0
      },
      "text/plain": [
       "Epoch: 61:   0%|          | 0/11 [00:00<?, ?it/s]"
      ]
     },
     "metadata": {},
     "output_type": "display_data"
    },
    {
     "name": "stdout",
     "output_type": "stream",
     "text": [
      "Val OKS: 0.9880184437573497\n"
     ]
    },
    {
     "data": {
      "application/vnd.jupyter.widget-view+json": {
       "model_id": "3468874bb21249b8bfdac12d8cfa348a",
       "version_major": 2,
       "version_minor": 0
      },
      "text/plain": [
       "Epoch: 62:   0%|          | 0/74 [00:00<?, ?it/s]"
      ]
     },
     "metadata": {},
     "output_type": "display_data"
    },
    {
     "name": "stdout",
     "output_type": "stream",
     "text": [
      "Training loss: 0.12436022914039928\n",
      "Train OKS: 0.9973015245177999\n"
     ]
    },
    {
     "data": {
      "application/vnd.jupyter.widget-view+json": {
       "model_id": "6c27df30cb5648b2846d279a2cf8f944",
       "version_major": 2,
       "version_minor": 0
      },
      "text/plain": [
       "Epoch: 62:   0%|          | 0/11 [00:00<?, ?it/s]"
      ]
     },
     "metadata": {},
     "output_type": "display_data"
    },
    {
     "name": "stdout",
     "output_type": "stream",
     "text": [
      "Val OKS: 0.9881821979971972\n"
     ]
    },
    {
     "data": {
      "application/vnd.jupyter.widget-view+json": {
       "model_id": "80c549735fef4cf5b364f727d4b996ee",
       "version_major": 2,
       "version_minor": 0
      },
      "text/plain": [
       "Epoch: 63:   0%|          | 0/74 [00:00<?, ?it/s]"
      ]
     },
     "metadata": {},
     "output_type": "display_data"
    },
    {
     "name": "stdout",
     "output_type": "stream",
     "text": [
      "Training loss: 0.12430411052411876\n",
      "Train OKS: 0.997417055073775\n"
     ]
    },
    {
     "data": {
      "application/vnd.jupyter.widget-view+json": {
       "model_id": "bc24cc26157e4fcbb641e8b027b03f63",
       "version_major": 2,
       "version_minor": 0
      },
      "text/plain": [
       "Epoch: 63:   0%|          | 0/11 [00:00<?, ?it/s]"
      ]
     },
     "metadata": {},
     "output_type": "display_data"
    },
    {
     "name": "stdout",
     "output_type": "stream",
     "text": [
      "Val OKS: 0.9886697194652606\n"
     ]
    },
    {
     "data": {
      "application/vnd.jupyter.widget-view+json": {
       "model_id": "b551c6120521494dab044650d8f8e4c4",
       "version_major": 2,
       "version_minor": 0
      },
      "text/plain": [
       "Epoch: 64:   0%|          | 0/74 [00:00<?, ?it/s]"
      ]
     },
     "metadata": {},
     "output_type": "display_data"
    },
    {
     "name": "stdout",
     "output_type": "stream",
     "text": [
      "Training loss: 0.1242495950160397\n",
      "Train OKS: 0.9975227609144363\n"
     ]
    },
    {
     "data": {
      "application/vnd.jupyter.widget-view+json": {
       "model_id": "136d63e35a8f480c80534bf66215c665",
       "version_major": 2,
       "version_minor": 0
      },
      "text/plain": [
       "Epoch: 64:   0%|          | 0/11 [00:00<?, ?it/s]"
      ]
     },
     "metadata": {},
     "output_type": "display_data"
    },
    {
     "name": "stdout",
     "output_type": "stream",
     "text": [
      "Val OKS: 0.9883553353860913\n"
     ]
    },
    {
     "data": {
      "application/vnd.jupyter.widget-view+json": {
       "model_id": "6e1f45382ca14a5da0317a82c8df367a",
       "version_major": 2,
       "version_minor": 0
      },
      "text/plain": [
       "Epoch: 65:   0%|          | 0/74 [00:00<?, ?it/s]"
      ]
     },
     "metadata": {},
     "output_type": "display_data"
    },
    {
     "name": "stdout",
     "output_type": "stream",
     "text": [
      "Training loss: 0.12428684557813245\n",
      "Train OKS: 0.9974452739710088\n"
     ]
    },
    {
     "data": {
      "application/vnd.jupyter.widget-view+json": {
       "model_id": "50d3fd724c15489dbd8394ab54ff6095",
       "version_major": 2,
       "version_minor": 0
      },
      "text/plain": [
       "Epoch: 65:   0%|          | 0/11 [00:00<?, ?it/s]"
      ]
     },
     "metadata": {},
     "output_type": "display_data"
    },
    {
     "name": "stdout",
     "output_type": "stream",
     "text": [
      "Val OKS: 0.9882991212543264\n"
     ]
    },
    {
     "data": {
      "application/vnd.jupyter.widget-view+json": {
       "model_id": "4816cba8ab834101b9ce3a0d2ed51982",
       "version_major": 2,
       "version_minor": 0
      },
      "text/plain": [
       "Epoch: 66:   0%|          | 0/74 [00:00<?, ?it/s]"
      ]
     },
     "metadata": {},
     "output_type": "display_data"
    },
    {
     "name": "stdout",
     "output_type": "stream",
     "text": [
      "Training loss: 0.12430373496199781\n",
      "Train OKS: 0.9974076111941027\n"
     ]
    },
    {
     "data": {
      "application/vnd.jupyter.widget-view+json": {
       "model_id": "24d934ffe60b4fd1b8ce39273cda1a54",
       "version_major": 2,
       "version_minor": 0
      },
      "text/plain": [
       "Epoch: 66:   0%|          | 0/11 [00:00<?, ?it/s]"
      ]
     },
     "metadata": {},
     "output_type": "display_data"
    },
    {
     "name": "stdout",
     "output_type": "stream",
     "text": [
      "Val OKS: 0.988209581506711\n"
     ]
    },
    {
     "data": {
      "application/vnd.jupyter.widget-view+json": {
       "model_id": "f73525d682bc4bdabf3a6f1f630ca47b",
       "version_major": 2,
       "version_minor": 0
      },
      "text/plain": [
       "Epoch: 67:   0%|          | 0/74 [00:00<?, ?it/s]"
      ]
     },
     "metadata": {},
     "output_type": "display_data"
    },
    {
     "name": "stdout",
     "output_type": "stream",
     "text": [
      "Training loss: 0.12428602155902095\n",
      "Train OKS: 0.9974406061020967\n"
     ]
    },
    {
     "data": {
      "application/vnd.jupyter.widget-view+json": {
       "model_id": "18d8b7ccc2174a2a808a83251c281517",
       "version_major": 2,
       "version_minor": 0
      },
      "text/plain": [
       "Epoch: 67:   0%|          | 0/11 [00:00<?, ?it/s]"
      ]
     },
     "metadata": {},
     "output_type": "display_data"
    },
    {
     "name": "stdout",
     "output_type": "stream",
     "text": [
      "Val OKS: 0.9885065002076215\n"
     ]
    },
    {
     "data": {
      "application/vnd.jupyter.widget-view+json": {
       "model_id": "d01d8b059c024ca3b39ba5bfa9f3c968",
       "version_major": 2,
       "version_minor": 0
      },
      "text/plain": [
       "Epoch: 68:   0%|          | 0/74 [00:00<?, ?it/s]"
      ]
     },
     "metadata": {},
     "output_type": "display_data"
    },
    {
     "name": "stdout",
     "output_type": "stream",
     "text": [
      "Training loss: 0.12421550770365708\n",
      "Train OKS: 0.997592631608854\n"
     ]
    },
    {
     "data": {
      "application/vnd.jupyter.widget-view+json": {
       "model_id": "27311beffef84a8b8fb2ccbbe4b7e8d9",
       "version_major": 2,
       "version_minor": 0
      },
      "text/plain": [
       "Epoch: 68:   0%|          | 0/11 [00:00<?, ?it/s]"
      ]
     },
     "metadata": {},
     "output_type": "display_data"
    },
    {
     "name": "stdout",
     "output_type": "stream",
     "text": [
      "Val OKS: 0.9885270579848661\n"
     ]
    },
    {
     "data": {
      "application/vnd.jupyter.widget-view+json": {
       "model_id": "f119889d73cc4227adbfd4871899945d",
       "version_major": 2,
       "version_minor": 0
      },
      "text/plain": [
       "Epoch: 69:   0%|          | 0/74 [00:00<?, ?it/s]"
      ]
     },
     "metadata": {},
     "output_type": "display_data"
    },
    {
     "name": "stdout",
     "output_type": "stream",
     "text": [
      "Training loss: 0.12418919429183006\n",
      "Train OKS: 0.9976502035146341\n"
     ]
    },
    {
     "data": {
      "application/vnd.jupyter.widget-view+json": {
       "model_id": "77e86dd9f3834943a33f559eea326b25",
       "version_major": 2,
       "version_minor": 0
      },
      "text/plain": [
       "Epoch: 69:   0%|          | 0/11 [00:00<?, ?it/s]"
      ]
     },
     "metadata": {},
     "output_type": "display_data"
    },
    {
     "name": "stdout",
     "output_type": "stream",
     "text": [
      "Val OKS: 0.9881305576274387\n"
     ]
    },
    {
     "data": {
      "application/vnd.jupyter.widget-view+json": {
       "model_id": "9726ca5a7bce41789695a2352f45626d",
       "version_major": 2,
       "version_minor": 0
      },
      "text/plain": [
       "Epoch: 70:   0%|          | 0/74 [00:00<?, ?it/s]"
      ]
     },
     "metadata": {},
     "output_type": "display_data"
    },
    {
     "name": "stdout",
     "output_type": "stream",
     "text": [
      "Training loss: 0.12421445045116786\n",
      "Train OKS: 0.9975993371511482\n"
     ]
    },
    {
     "data": {
      "application/vnd.jupyter.widget-view+json": {
       "model_id": "1faf7f5ce3ed413fac5d9a106cfe98c1",
       "version_major": 2,
       "version_minor": 0
      },
      "text/plain": [
       "Epoch: 70:   0%|          | 0/11 [00:00<?, ?it/s]"
      ]
     },
     "metadata": {},
     "output_type": "display_data"
    },
    {
     "name": "stdout",
     "output_type": "stream",
     "text": [
      "Val OKS: 0.9884953872455513\n"
     ]
    },
    {
     "data": {
      "application/vnd.jupyter.widget-view+json": {
       "model_id": "31c04cfcaeb1401fa06800e81a033089",
       "version_major": 2,
       "version_minor": 0
      },
      "text/plain": [
       "Epoch: 71:   0%|          | 0/74 [00:00<?, ?it/s]"
      ]
     },
     "metadata": {},
     "output_type": "display_data"
    },
    {
     "name": "stdout",
     "output_type": "stream",
     "text": [
      "Training loss: 0.12420035178798276\n",
      "Train OKS: 0.9976153084825653\n"
     ]
    },
    {
     "data": {
      "application/vnd.jupyter.widget-view+json": {
       "model_id": "63f41c3cac204dd99151f0f85550a11c",
       "version_major": 2,
       "version_minor": 0
      },
      "text/plain": [
       "Epoch: 71:   0%|          | 0/11 [00:00<?, ?it/s]"
      ]
     },
     "metadata": {},
     "output_type": "display_data"
    },
    {
     "name": "stdout",
     "output_type": "stream",
     "text": [
      "Val OKS: 0.9884095137542753\n"
     ]
    },
    {
     "data": {
      "application/vnd.jupyter.widget-view+json": {
       "model_id": "f5bf46db7be84cfe8bab926f3ccc2189",
       "version_major": 2,
       "version_minor": 0
      },
      "text/plain": [
       "Epoch: 72:   0%|          | 0/74 [00:00<?, ?it/s]"
      ]
     },
     "metadata": {},
     "output_type": "display_data"
    },
    {
     "name": "stdout",
     "output_type": "stream",
     "text": [
      "Training loss: 0.12418783526565577\n",
      "Train OKS: 0.9976298306873582\n"
     ]
    },
    {
     "data": {
      "application/vnd.jupyter.widget-view+json": {
       "model_id": "029e0516a10e449fb94c2a199584a74f",
       "version_major": 2,
       "version_minor": 0
      },
      "text/plain": [
       "Epoch: 72:   0%|          | 0/11 [00:00<?, ?it/s]"
      ]
     },
     "metadata": {},
     "output_type": "display_data"
    },
    {
     "name": "stdout",
     "output_type": "stream",
     "text": [
      "Val OKS: 0.9886741723312815\n"
     ]
    },
    {
     "data": {
      "application/vnd.jupyter.widget-view+json": {
       "model_id": "51b2fca24b2b4ae78a1b1f4568f4bb86",
       "version_major": 2,
       "version_minor": 0
      },
      "text/plain": [
       "Epoch: 73:   0%|          | 0/74 [00:00<?, ?it/s]"
      ]
     },
     "metadata": {},
     "output_type": "display_data"
    },
    {
     "name": "stdout",
     "output_type": "stream",
     "text": [
      "Training loss: 0.12418804410845041\n",
      "Train OKS: 0.9976485077907579\n"
     ]
    },
    {
     "data": {
      "application/vnd.jupyter.widget-view+json": {
       "model_id": "84487ac1e5d64e98ba416e352dc88bf3",
       "version_major": 2,
       "version_minor": 0
      },
      "text/plain": [
       "Epoch: 73:   0%|          | 0/11 [00:00<?, ?it/s]"
      ]
     },
     "metadata": {},
     "output_type": "display_data"
    },
    {
     "name": "stdout",
     "output_type": "stream",
     "text": [
      "Val OKS: 0.9886361469663297\n"
     ]
    },
    {
     "data": {
      "application/vnd.jupyter.widget-view+json": {
       "model_id": "c6aa51b5af354749b1df131bd02aaaa8",
       "version_major": 2,
       "version_minor": 0
      },
      "text/plain": [
       "Epoch: 74:   0%|          | 0/74 [00:00<?, ?it/s]"
      ]
     },
     "metadata": {},
     "output_type": "display_data"
    },
    {
     "name": "stdout",
     "output_type": "stream",
     "text": [
      "Training loss: 0.12414033347237352\n",
      "Train OKS: 0.9977500633843611\n"
     ]
    },
    {
     "data": {
      "application/vnd.jupyter.widget-view+json": {
       "model_id": "f35bb8ac75aa412eb611910b645ad4b1",
       "version_major": 2,
       "version_minor": 0
      },
      "text/plain": [
       "Epoch: 74:   0%|          | 0/11 [00:00<?, ?it/s]"
      ]
     },
     "metadata": {},
     "output_type": "display_data"
    },
    {
     "name": "stdout",
     "output_type": "stream",
     "text": [
      "Val OKS: 0.9885320747157367\n"
     ]
    },
    {
     "data": {
      "application/vnd.jupyter.widget-view+json": {
       "model_id": "2e439af377044d3da184a9cfee8a49fb",
       "version_major": 2,
       "version_minor": 0
      },
      "text/plain": [
       "Epoch: 75:   0%|          | 0/74 [00:00<?, ?it/s]"
      ]
     },
     "metadata": {},
     "output_type": "display_data"
    },
    {
     "name": "stdout",
     "output_type": "stream",
     "text": [
      "Training loss: 0.12414192800989023\n",
      "Train OKS: 0.9977383431644006\n"
     ]
    },
    {
     "data": {
      "application/vnd.jupyter.widget-view+json": {
       "model_id": "6eb9c2b7d5f141e084b84ab18eac0757",
       "version_major": 2,
       "version_minor": 0
      },
      "text/plain": [
       "Epoch: 75:   0%|          | 0/11 [00:00<?, ?it/s]"
      ]
     },
     "metadata": {},
     "output_type": "display_data"
    },
    {
     "name": "stdout",
     "output_type": "stream",
     "text": [
      "Val OKS: 0.9883109718423604\n"
     ]
    },
    {
     "data": {
      "application/vnd.jupyter.widget-view+json": {
       "model_id": "9a6c3bbd4d184d2e9870eda9a3451027",
       "version_major": 2,
       "version_minor": 0
      },
      "text/plain": [
       "Epoch: 76:   0%|          | 0/74 [00:00<?, ?it/s]"
      ]
     },
     "metadata": {},
     "output_type": "display_data"
    },
    {
     "name": "stdout",
     "output_type": "stream",
     "text": [
      "Training loss: 0.12415232813942272\n",
      "Train OKS: 0.9977083504299166\n"
     ]
    },
    {
     "data": {
      "application/vnd.jupyter.widget-view+json": {
       "model_id": "4d535e4e93f54e8087d84209768ee980",
       "version_major": 2,
       "version_minor": 0
      },
      "text/plain": [
       "Epoch: 76:   0%|          | 0/11 [00:00<?, ?it/s]"
      ]
     },
     "metadata": {},
     "output_type": "display_data"
    },
    {
     "name": "stdout",
     "output_type": "stream",
     "text": [
      "Val OKS: 0.9887847332039265\n"
     ]
    },
    {
     "data": {
      "application/vnd.jupyter.widget-view+json": {
       "model_id": "21e10328615146048cbe0426e8688ffe",
       "version_major": 2,
       "version_minor": 0
      },
      "text/plain": [
       "Epoch: 77:   0%|          | 0/74 [00:00<?, ?it/s]"
      ]
     },
     "metadata": {},
     "output_type": "display_data"
    },
    {
     "name": "stdout",
     "output_type": "stream",
     "text": [
      "Training loss: 0.12412558040405447\n",
      "Train OKS: 0.9977689605273833\n"
     ]
    },
    {
     "data": {
      "application/vnd.jupyter.widget-view+json": {
       "model_id": "30f8000ec9004a4dbba2e7102ac45d2a",
       "version_major": 2,
       "version_minor": 0
      },
      "text/plain": [
       "Epoch: 77:   0%|          | 0/11 [00:00<?, ?it/s]"
      ]
     },
     "metadata": {},
     "output_type": "display_data"
    },
    {
     "name": "stdout",
     "output_type": "stream",
     "text": [
      "Val OKS: 0.9887885703165006\n"
     ]
    },
    {
     "data": {
      "application/vnd.jupyter.widget-view+json": {
       "model_id": "ed4f483aa33e493a8216dcc521098ce6",
       "version_major": 2,
       "version_minor": 0
      },
      "text/plain": [
       "Epoch: 78:   0%|          | 0/74 [00:00<?, ?it/s]"
      ]
     },
     "metadata": {},
     "output_type": "display_data"
    },
    {
     "name": "stdout",
     "output_type": "stream",
     "text": [
      "Training loss: 0.12409228645265102\n",
      "Train OKS: 0.9978491698010175\n"
     ]
    },
    {
     "data": {
      "application/vnd.jupyter.widget-view+json": {
       "model_id": "c76872aae812411282e7125a9702f3cb",
       "version_major": 2,
       "version_minor": 0
      },
      "text/plain": [
       "Epoch: 78:   0%|          | 0/11 [00:00<?, ?it/s]"
      ]
     },
     "metadata": {},
     "output_type": "display_data"
    },
    {
     "name": "stdout",
     "output_type": "stream",
     "text": [
      "Val OKS: 0.9883848050770828\n"
     ]
    },
    {
     "data": {
      "application/vnd.jupyter.widget-view+json": {
       "model_id": "2f77679ebd2e4ccc822880d9336933e7",
       "version_major": 2,
       "version_minor": 0
      },
      "text/plain": [
       "Epoch: 79:   0%|          | 0/74 [00:00<?, ?it/s]"
      ]
     },
     "metadata": {},
     "output_type": "display_data"
    },
    {
     "name": "stdout",
     "output_type": "stream",
     "text": [
      "Training loss: 0.12407976255525609\n",
      "Train OKS: 0.9978590377925504\n"
     ]
    },
    {
     "data": {
      "application/vnd.jupyter.widget-view+json": {
       "model_id": "ea7fd03bbf074ac5891d5050cbde682e",
       "version_major": 2,
       "version_minor": 0
      },
      "text/plain": [
       "Epoch: 79:   0%|          | 0/11 [00:00<?, ?it/s]"
      ]
     },
     "metadata": {},
     "output_type": "display_data"
    },
    {
     "name": "stdout",
     "output_type": "stream",
     "text": [
      "Val OKS: 0.9889612385853734\n"
     ]
    },
    {
     "data": {
      "application/vnd.jupyter.widget-view+json": {
       "model_id": "4e252d7fa2ae4aeb8443655c1612707a",
       "version_major": 2,
       "version_minor": 0
      },
      "text/plain": [
       "Epoch: 80:   0%|          | 0/74 [00:00<?, ?it/s]"
      ]
     },
     "metadata": {},
     "output_type": "display_data"
    },
    {
     "name": "stdout",
     "output_type": "stream",
     "text": [
      "Training loss: 0.12409216044722376\n",
      "Train OKS: 0.9978442865333439\n"
     ]
    },
    {
     "data": {
      "application/vnd.jupyter.widget-view+json": {
       "model_id": "c5790573a6a24364bc8098f3cff5deda",
       "version_major": 2,
       "version_minor": 0
      },
      "text/plain": [
       "Epoch: 80:   0%|          | 0/11 [00:00<?, ?it/s]"
      ]
     },
     "metadata": {},
     "output_type": "display_data"
    },
    {
     "name": "stdout",
     "output_type": "stream",
     "text": [
      "Val OKS: 0.9884921152386571\n"
     ]
    },
    {
     "data": {
      "application/vnd.jupyter.widget-view+json": {
       "model_id": "70dcdce340b949e2a78599bc2058f0ec",
       "version_major": 2,
       "version_minor": 0
      },
      "text/plain": [
       "Epoch: 81:   0%|          | 0/74 [00:00<?, ?it/s]"
      ]
     },
     "metadata": {},
     "output_type": "display_data"
    },
    {
     "name": "stdout",
     "output_type": "stream",
     "text": [
      "Training loss: 0.12406742318558532\n",
      "Train OKS: 0.997904255841563\n"
     ]
    },
    {
     "data": {
      "application/vnd.jupyter.widget-view+json": {
       "model_id": "68873b98d22c402fa2e3dfe82a159fff",
       "version_major": 2,
       "version_minor": 0
      },
      "text/plain": [
       "Epoch: 81:   0%|          | 0/11 [00:00<?, ?it/s]"
      ]
     },
     "metadata": {},
     "output_type": "display_data"
    },
    {
     "name": "stdout",
     "output_type": "stream",
     "text": [
      "Val OKS: 0.9887072019367347\n"
     ]
    },
    {
     "data": {
      "application/vnd.jupyter.widget-view+json": {
       "model_id": "02dc0c3c5cb8411aba9d43608bd02eea",
       "version_major": 2,
       "version_minor": 0
      },
      "text/plain": [
       "Epoch: 82:   0%|          | 0/74 [00:00<?, ?it/s]"
      ]
     },
     "metadata": {},
     "output_type": "display_data"
    },
    {
     "name": "stdout",
     "output_type": "stream",
     "text": [
      "Training loss: 0.12400871731743619\n",
      "Train OKS: 0.9980149751711431\n"
     ]
    },
    {
     "data": {
      "application/vnd.jupyter.widget-view+json": {
       "model_id": "ef84dc5ceb7241878e9f90449f9d2430",
       "version_major": 2,
       "version_minor": 0
      },
      "text/plain": [
       "Epoch: 82:   0%|          | 0/11 [00:00<?, ?it/s]"
      ]
     },
     "metadata": {},
     "output_type": "display_data"
    },
    {
     "name": "stdout",
     "output_type": "stream",
     "text": [
      "Val OKS: 0.9885835933192569\n"
     ]
    },
    {
     "data": {
      "application/vnd.jupyter.widget-view+json": {
       "model_id": "60915beeaa8c4705af98d8f2ef59038d",
       "version_major": 2,
       "version_minor": 0
      },
      "text/plain": [
       "Epoch: 83:   0%|          | 0/74 [00:00<?, ?it/s]"
      ]
     },
     "metadata": {},
     "output_type": "display_data"
    },
    {
     "name": "stdout",
     "output_type": "stream",
     "text": [
      "Training loss: 0.12403305740775289\n",
      "Train OKS: 0.9979546533838188\n"
     ]
    },
    {
     "data": {
      "application/vnd.jupyter.widget-view+json": {
       "model_id": "3797f525a5cc4f99ae8a9c957406ff1e",
       "version_major": 2,
       "version_minor": 0
      },
      "text/plain": [
       "Epoch: 83:   0%|          | 0/11 [00:00<?, ?it/s]"
      ]
     },
     "metadata": {},
     "output_type": "display_data"
    },
    {
     "name": "stdout",
     "output_type": "stream",
     "text": [
      "Val OKS: 0.9888523115945858\n"
     ]
    },
    {
     "data": {
      "application/vnd.jupyter.widget-view+json": {
       "model_id": "9e16f8edebfe4890ac7a63aefef9ddaa",
       "version_major": 2,
       "version_minor": 0
      },
      "text/plain": [
       "Epoch: 84:   0%|          | 0/74 [00:00<?, ?it/s]"
      ]
     },
     "metadata": {},
     "output_type": "display_data"
    },
    {
     "name": "stdout",
     "output_type": "stream",
     "text": [
      "Training loss: 0.1240138500878537\n",
      "Train OKS: 0.9980058670749437\n"
     ]
    },
    {
     "data": {
      "application/vnd.jupyter.widget-view+json": {
       "model_id": "51584cbfbc6141a19e2c88f51fe94126",
       "version_major": 2,
       "version_minor": 0
      },
      "text/plain": [
       "Epoch: 84:   0%|          | 0/11 [00:00<?, ?it/s]"
      ]
     },
     "metadata": {},
     "output_type": "display_data"
    },
    {
     "name": "stdout",
     "output_type": "stream",
     "text": [
      "Val OKS: 0.9883982094833247\n"
     ]
    },
    {
     "data": {
      "application/vnd.jupyter.widget-view+json": {
       "model_id": "5210be9efaba47478d7643da7757d69f",
       "version_major": 2,
       "version_minor": 0
      },
      "text/plain": [
       "Epoch: 85:   0%|          | 0/74 [00:00<?, ?it/s]"
      ]
     },
     "metadata": {},
     "output_type": "display_data"
    },
    {
     "name": "stdout",
     "output_type": "stream",
     "text": [
      "Training loss: 0.12401390757814452\n",
      "Train OKS: 0.9980002013299876\n"
     ]
    },
    {
     "data": {
      "application/vnd.jupyter.widget-view+json": {
       "model_id": "02e6396ef20b4da7bc0aed72c15b8984",
       "version_major": 2,
       "version_minor": 0
      },
      "text/plain": [
       "Epoch: 85:   0%|          | 0/11 [00:00<?, ?it/s]"
      ]
     },
     "metadata": {},
     "output_type": "display_data"
    },
    {
     "name": "stdout",
     "output_type": "stream",
     "text": [
      "Val OKS: 0.9886266962061825\n"
     ]
    },
    {
     "data": {
      "application/vnd.jupyter.widget-view+json": {
       "model_id": "802359933557456b8c35f79eef96eece",
       "version_major": 2,
       "version_minor": 0
      },
      "text/plain": [
       "Epoch: 86:   0%|          | 0/74 [00:00<?, ?it/s]"
      ]
     },
     "metadata": {},
     "output_type": "display_data"
    },
    {
     "name": "stdout",
     "output_type": "stream",
     "text": [
      "Training loss: 0.12401044295748344\n",
      "Train OKS: 0.9980158612684151\n"
     ]
    },
    {
     "data": {
      "application/vnd.jupyter.widget-view+json": {
       "model_id": "8f340aff49364b188ad5aee70b88e46c",
       "version_major": 2,
       "version_minor": 0
      },
      "text/plain": [
       "Epoch: 86:   0%|          | 0/11 [00:00<?, ?it/s]"
      ]
     },
     "metadata": {},
     "output_type": "display_data"
    },
    {
     "name": "stdout",
     "output_type": "stream",
     "text": [
      "Val OKS: 0.988558841486648\n"
     ]
    },
    {
     "data": {
      "application/vnd.jupyter.widget-view+json": {
       "model_id": "69175dfe9d364afeaa2f25b1ec85fa4d",
       "version_major": 2,
       "version_minor": 0
      },
      "text/plain": [
       "Epoch: 87:   0%|          | 0/74 [00:00<?, ?it/s]"
      ]
     },
     "metadata": {},
     "output_type": "display_data"
    },
    {
     "name": "stdout",
     "output_type": "stream",
     "text": [
      "Training loss: 0.12399415890812068\n",
      "Train OKS: 0.998044165440835\n"
     ]
    },
    {
     "data": {
      "application/vnd.jupyter.widget-view+json": {
       "model_id": "cc4de289c3514b12a2907addf8dea322",
       "version_major": 2,
       "version_minor": 0
      },
      "text/plain": [
       "Epoch: 87:   0%|          | 0/11 [00:00<?, ?it/s]"
      ]
     },
     "metadata": {},
     "output_type": "display_data"
    },
    {
     "name": "stdout",
     "output_type": "stream",
     "text": [
      "Val OKS: 0.9888388010390209\n"
     ]
    },
    {
     "data": {
      "application/vnd.jupyter.widget-view+json": {
       "model_id": "b048c88ec2544271beaf703d4282c57c",
       "version_major": 2,
       "version_minor": 0
      },
      "text/plain": [
       "Epoch: 88:   0%|          | 0/74 [00:00<?, ?it/s]"
      ]
     },
     "metadata": {},
     "output_type": "display_data"
    },
    {
     "name": "stdout",
     "output_type": "stream",
     "text": [
      "Training loss: 0.12396211383511892\n",
      "Train OKS: 0.9981026029633491\n"
     ]
    },
    {
     "data": {
      "application/vnd.jupyter.widget-view+json": {
       "model_id": "979c853e7322490fadca324fb5eb678b",
       "version_major": 2,
       "version_minor": 0
      },
      "text/plain": [
       "Epoch: 88:   0%|          | 0/11 [00:00<?, ?it/s]"
      ]
     },
     "metadata": {},
     "output_type": "display_data"
    },
    {
     "name": "stdout",
     "output_type": "stream",
     "text": [
      "Val OKS: 0.9887244410813378\n"
     ]
    },
    {
     "data": {
      "application/vnd.jupyter.widget-view+json": {
       "model_id": "509588101b964903ad71353684d105a1",
       "version_major": 2,
       "version_minor": 0
      },
      "text/plain": [
       "Epoch: 89:   0%|          | 0/74 [00:00<?, ?it/s]"
      ]
     },
     "metadata": {},
     "output_type": "display_data"
    },
    {
     "name": "stdout",
     "output_type": "stream",
     "text": [
      "Training loss: 0.12397236356864104\n",
      "Train OKS: 0.9980880318090041\n"
     ]
    },
    {
     "data": {
      "application/vnd.jupyter.widget-view+json": {
       "model_id": "49acc7a6e40a4af38a70fa14a6047c7e",
       "version_major": 2,
       "version_minor": 0
      },
      "text/plain": [
       "Epoch: 89:   0%|          | 0/11 [00:00<?, ?it/s]"
      ]
     },
     "metadata": {},
     "output_type": "display_data"
    },
    {
     "name": "stdout",
     "output_type": "stream",
     "text": [
      "Val OKS: 0.9889543388101918\n"
     ]
    },
    {
     "data": {
      "application/vnd.jupyter.widget-view+json": {
       "model_id": "dafcdf9dbfd44b8196bd1350d93cf911",
       "version_major": 2,
       "version_minor": 0
      },
      "text/plain": [
       "Epoch: 90:   0%|          | 0/74 [00:00<?, ?it/s]"
      ]
     },
     "metadata": {},
     "output_type": "display_data"
    },
    {
     "name": "stdout",
     "output_type": "stream",
     "text": [
      "Training loss: 0.12397239306891286\n",
      "Train OKS: 0.9980784225572106\n"
     ]
    },
    {
     "data": {
      "application/vnd.jupyter.widget-view+json": {
       "model_id": "05caa2041e4648d7ba00f346d1577f44",
       "version_major": 2,
       "version_minor": 0
      },
      "text/plain": [
       "Epoch: 90:   0%|          | 0/11 [00:00<?, ?it/s]"
      ]
     },
     "metadata": {},
     "output_type": "display_data"
    },
    {
     "name": "stdout",
     "output_type": "stream",
     "text": [
      "Val OKS: 0.9888276233226724\n"
     ]
    },
    {
     "data": {
      "application/vnd.jupyter.widget-view+json": {
       "model_id": "389257f54c10449cbbedb21e4ab806f5",
       "version_major": 2,
       "version_minor": 0
      },
      "text/plain": [
       "Epoch: 91:   0%|          | 0/74 [00:00<?, ?it/s]"
      ]
     },
     "metadata": {},
     "output_type": "display_data"
    },
    {
     "name": "stdout",
     "output_type": "stream",
     "text": [
      "Training loss: 0.12393831396223726\n",
      "Train OKS: 0.9981621050971283\n"
     ]
    },
    {
     "data": {
      "application/vnd.jupyter.widget-view+json": {
       "model_id": "4ac13c5428674dabb7c75a758b171353",
       "version_major": 2,
       "version_minor": 0
      },
      "text/plain": [
       "Epoch: 91:   0%|          | 0/11 [00:00<?, ?it/s]"
      ]
     },
     "metadata": {},
     "output_type": "display_data"
    },
    {
     "name": "stdout",
     "output_type": "stream",
     "text": [
      "Val OKS: 0.9886758886962046\n"
     ]
    },
    {
     "data": {
      "application/vnd.jupyter.widget-view+json": {
       "model_id": "a6e62a92c8134ed98050f04fba2afbd1",
       "version_major": 2,
       "version_minor": 0
      },
      "text/plain": [
       "Epoch: 92:   0%|          | 0/74 [00:00<?, ?it/s]"
      ]
     },
     "metadata": {},
     "output_type": "display_data"
    },
    {
     "name": "stdout",
     "output_type": "stream",
     "text": [
      "Training loss: 0.12393475910396995\n",
      "Train OKS: 0.9981578307773109\n"
     ]
    },
    {
     "data": {
      "application/vnd.jupyter.widget-view+json": {
       "model_id": "1156a10b553049958a1c980b5e9d112f",
       "version_major": 2,
       "version_minor": 0
      },
      "text/plain": [
       "Epoch: 92:   0%|          | 0/11 [00:00<?, ?it/s]"
      ]
     },
     "metadata": {},
     "output_type": "display_data"
    },
    {
     "name": "stdout",
     "output_type": "stream",
     "text": [
      "Val OKS: 0.9888506541298997\n"
     ]
    },
    {
     "data": {
      "application/vnd.jupyter.widget-view+json": {
       "model_id": "545d6e2c7f314023aded07d924eb6d0c",
       "version_major": 2,
       "version_minor": 0
      },
      "text/plain": [
       "Epoch: 93:   0%|          | 0/74 [00:00<?, ?it/s]"
      ]
     },
     "metadata": {},
     "output_type": "display_data"
    },
    {
     "name": "stdout",
     "output_type": "stream",
     "text": [
      "Training loss: 0.12393287682553401\n",
      "Train OKS: 0.9981671302095771\n"
     ]
    },
    {
     "data": {
      "application/vnd.jupyter.widget-view+json": {
       "model_id": "75a92ce5e4ea42c99d91344f77f27cc3",
       "version_major": 2,
       "version_minor": 0
      },
      "text/plain": [
       "Epoch: 93:   0%|          | 0/11 [00:00<?, ?it/s]"
      ]
     },
     "metadata": {},
     "output_type": "display_data"
    },
    {
     "name": "stdout",
     "output_type": "stream",
     "text": [
      "Val OKS: 0.9890100804249995\n"
     ]
    },
    {
     "data": {
      "application/vnd.jupyter.widget-view+json": {
       "model_id": "4005df05075e48d499af82c62eab5adc",
       "version_major": 2,
       "version_minor": 0
      },
      "text/plain": [
       "Epoch: 94:   0%|          | 0/74 [00:00<?, ?it/s]"
      ]
     },
     "metadata": {},
     "output_type": "display_data"
    },
    {
     "name": "stdout",
     "output_type": "stream",
     "text": [
      "Training loss: 0.12390907078578665\n",
      "Train OKS: 0.9982179805878018\n"
     ]
    },
    {
     "data": {
      "application/vnd.jupyter.widget-view+json": {
       "model_id": "66804be572e44e8fb89c2d8d3b448948",
       "version_major": 2,
       "version_minor": 0
      },
      "text/plain": [
       "Epoch: 94:   0%|          | 0/11 [00:00<?, ?it/s]"
      ]
     },
     "metadata": {},
     "output_type": "display_data"
    },
    {
     "name": "stdout",
     "output_type": "stream",
     "text": [
      "Val OKS: 0.988997880072883\n"
     ]
    },
    {
     "data": {
      "application/vnd.jupyter.widget-view+json": {
       "model_id": "b5799c9097ad46c2ad7f83becfcb18b1",
       "version_major": 2,
       "version_minor": 0
      },
      "text/plain": [
       "Epoch: 95:   0%|          | 0/74 [00:00<?, ?it/s]"
      ]
     },
     "metadata": {},
     "output_type": "display_data"
    },
    {
     "name": "stdout",
     "output_type": "stream",
     "text": [
      "Training loss: 0.12390229080778521\n",
      "Train OKS: 0.9982215351360771\n"
     ]
    },
    {
     "data": {
      "application/vnd.jupyter.widget-view+json": {
       "model_id": "61dcf4852a2d459aafd76b523177ce25",
       "version_major": 2,
       "version_minor": 0
      },
      "text/plain": [
       "Epoch: 95:   0%|          | 0/11 [00:00<?, ?it/s]"
      ]
     },
     "metadata": {},
     "output_type": "display_data"
    },
    {
     "name": "stdout",
     "output_type": "stream",
     "text": [
      "Val OKS: 0.9892844342961971\n"
     ]
    },
    {
     "data": {
      "application/vnd.jupyter.widget-view+json": {
       "model_id": "543a46d6e59145c295778fb780ea9460",
       "version_major": 2,
       "version_minor": 0
      },
      "text/plain": [
       "Epoch: 96:   0%|          | 0/74 [00:00<?, ?it/s]"
      ]
     },
     "metadata": {},
     "output_type": "display_data"
    },
    {
     "name": "stdout",
     "output_type": "stream",
     "text": [
      "Training loss: 0.12389845159408208\n",
      "Train OKS: 0.9982377133248715\n"
     ]
    },
    {
     "data": {
      "application/vnd.jupyter.widget-view+json": {
       "model_id": "c71d7d5c31e04ae88777d269a861e1aa",
       "version_major": 2,
       "version_minor": 0
      },
      "text/plain": [
       "Epoch: 96:   0%|          | 0/11 [00:00<?, ?it/s]"
      ]
     },
     "metadata": {},
     "output_type": "display_data"
    },
    {
     "name": "stdout",
     "output_type": "stream",
     "text": [
      "Val OKS: 0.9890236852226048\n"
     ]
    },
    {
     "data": {
      "application/vnd.jupyter.widget-view+json": {
       "model_id": "8c4b8918a28a4bbebbe15abdd8dc0de7",
       "version_major": 2,
       "version_minor": 0
      },
      "text/plain": [
       "Epoch: 97:   0%|          | 0/74 [00:00<?, ?it/s]"
      ]
     },
     "metadata": {},
     "output_type": "display_data"
    },
    {
     "name": "stdout",
     "output_type": "stream",
     "text": [
      "Training loss: 0.12389341308861165\n",
      "Train OKS: 0.9982362815387765\n"
     ]
    },
    {
     "data": {
      "application/vnd.jupyter.widget-view+json": {
       "model_id": "dae0c89eec6946b0a49061682f7ae705",
       "version_major": 2,
       "version_minor": 0
      },
      "text/plain": [
       "Epoch: 97:   0%|          | 0/11 [00:00<?, ?it/s]"
      ]
     },
     "metadata": {},
     "output_type": "display_data"
    },
    {
     "name": "stdout",
     "output_type": "stream",
     "text": [
      "Val OKS: 0.9887854984124613\n"
     ]
    },
    {
     "data": {
      "application/vnd.jupyter.widget-view+json": {
       "model_id": "42176ac197e84197b190c34565a6c9a2",
       "version_major": 2,
       "version_minor": 0
      },
      "text/plain": [
       "Epoch: 98:   0%|          | 0/74 [00:00<?, ?it/s]"
      ]
     },
     "metadata": {},
     "output_type": "display_data"
    },
    {
     "name": "stdout",
     "output_type": "stream",
     "text": [
      "Training loss: 0.12388579771426078\n",
      "Train OKS: 0.9982707429961577\n"
     ]
    },
    {
     "data": {
      "application/vnd.jupyter.widget-view+json": {
       "model_id": "7d327f57e9e34ae4bd08d994f9e641a7",
       "version_major": 2,
       "version_minor": 0
      },
      "text/plain": [
       "Epoch: 98:   0%|          | 0/11 [00:00<?, ?it/s]"
      ]
     },
     "metadata": {},
     "output_type": "display_data"
    },
    {
     "name": "stdout",
     "output_type": "stream",
     "text": [
      "Val OKS: 0.9890070107743023\n"
     ]
    },
    {
     "data": {
      "application/vnd.jupyter.widget-view+json": {
       "model_id": "c51c98395b1e4cd281eab1e1ba14aea0",
       "version_major": 2,
       "version_minor": 0
      },
      "text/plain": [
       "Epoch: 99:   0%|          | 0/74 [00:00<?, ?it/s]"
      ]
     },
     "metadata": {},
     "output_type": "display_data"
    },
    {
     "name": "stdout",
     "output_type": "stream",
     "text": [
      "Training loss: 0.12382495106273406\n",
      "Train OKS: 0.9983871652688602\n"
     ]
    },
    {
     "data": {
      "application/vnd.jupyter.widget-view+json": {
       "model_id": "c2f37c7cf0884a01bc046268ef8cc1ce",
       "version_major": 2,
       "version_minor": 0
      },
      "text/plain": [
       "Epoch: 99:   0%|          | 0/11 [00:00<?, ?it/s]"
      ]
     },
     "metadata": {},
     "output_type": "display_data"
    },
    {
     "name": "stdout",
     "output_type": "stream",
     "text": [
      "Val OKS: 0.9890946573435356\n"
     ]
    }
   ],
   "source": [
    "for epoch in range(EPOCHS):\n",
    "    \n",
    "    model.train()\n",
    "        \n",
    "    train_loss = []\n",
    "    train_predictions = []\n",
    "    train_targets = []\n",
    "    for batch, targets in tqdm(train_dataloader, desc=f\"Epoch: {epoch}\"):\n",
    "        optimizer.zero_grad()\n",
    "        \n",
    "        batch = batch.to(device)\n",
    "        targets = targets.to(device)\n",
    "        \n",
    "        predictions = model(batch)\n",
    "        \n",
    "        loss = criterion(predictions, targets) \n",
    "        loss.backward()\n",
    "        optimizer.step()\n",
    "\n",
    "        train_loss.append(loss.item())\n",
    "        \n",
    "        predictions = predictions.cpu().detach().numpy().reshape(-1, 3)\n",
    "        train_predictions.extend(predictions)\n",
    "        targets = targets.cpu().detach().numpy().reshape(-1, 3)\n",
    "        train_targets.extend(targets)\n",
    "    \n",
    "    train_targets = np.array(train_targets)\n",
    "    train_predictions = np.array(train_predictions)\n",
    "    print('Training loss:', np.mean(train_loss))\n",
    "    print('Train OKS:', oks(train_targets[:, :2], train_predictions[:, :2], train_targets[:, 2]))\n",
    "    \n",
    "    model.eval()\n",
    "        \n",
    "    val_predictions = []\n",
    "    val_targets = []\n",
    "    for batch, targets in tqdm(val_dataloader, desc=f\"Epoch: {epoch}\"):\n",
    "        \n",
    "        with torch.no_grad():\n",
    "        \n",
    "            batch = batch.to(device)\n",
    "            targets = targets.to(device)\n",
    "            predictions = model(batch)\n",
    "            \n",
    "            predictions = predictions.cpu().numpy().reshape(-1, 3)\n",
    "            val_predictions.extend(predictions)\n",
    "            targets = targets.cpu().numpy().reshape(-1, 3)\n",
    "            val_targets.extend(targets)\n",
    "        \n",
    "    val_targets = np.array(val_targets)\n",
    "    val_predictions = np.array(val_predictions)\n",
    "    print('Val OKS:', oks(val_targets[:, :2], val_predictions[:, :2], val_targets[:, 2]))"
   ]
  },
  {
   "cell_type": "markdown",
   "id": "2669056a-3e9e-4549-8587-2e5f5e37f5d6",
   "metadata": {},
   "source": [
    "# Inference"
   ]
  },
  {
   "cell_type": "code",
   "execution_count": 34,
   "id": "43c71302-a0e8-4a8f-9a5a-b5a70fefd777",
   "metadata": {},
   "outputs": [],
   "source": [
    "val_id = 4\n",
    "image_name = f\"{image_dir}/{val[val_id]['file_name']}\"\n",
    "image = Image.open(image_name).convert('RGB')\n",
    "image = np.asarray(image)\n",
    "\n",
    "x_min = val[val_id]['bbox'][0]\n",
    "x_max = val[val_id]['bbox'][0] + val[val_id]['bbox'][2]\n",
    "y_min = val[val_id]['bbox'][1]\n",
    "y_max = val[val_id]['bbox'][1] + val[val_id]['bbox'][3]\n",
    "image = image[y_min:y_max,x_min:x_max]\n",
    "\n",
    "pred = model(train_dataset.preprocessing(image=image)['image'].unsqueeze(0).to(device))\n",
    "pred = pred.cpu().detach().numpy()[0]"
   ]
  },
  {
   "cell_type": "code",
   "execution_count": 35,
   "id": "7773164f-6657-4835-a080-f53aeb5804e6",
   "metadata": {},
   "outputs": [
    {
     "data": {
      "text/plain": [
       "<matplotlib.image.AxesImage at 0x242dc8130>"
      ]
     },
     "execution_count": 35,
     "metadata": {},
     "output_type": "execute_result"
    },
    {
     "data": {
      "image/png": "[encoded data removed]",
      "text/plain": [
       "<Figure size 432x288 with 1 Axes>"
      ]
     },
     "metadata": {
      "needs_background": "light"
     },
     "output_type": "display_data"
    }
   ],
   "source": [
    "for i in range(0, len(pred), 3):\n",
    "    if pred[i+2] > 0.75:\n",
    "        x = int(pred[i] * (x_max-x_min))\n",
    "        y = int(pred[i+1] * (y_max-y_min))\n",
    "        cv2.circle(image, (x, y), 0, (0, 255, 0), 15)\n",
    "plt.imshow(image)"
   ]
  },
  {
   "cell_type": "code",
   "execution_count": null,
   "id": "9c629481-f9fb-4f3c-8811-23ad667b17ec",
   "metadata": {},
   "outputs": [],
   "source": []
  }
 ],
 "metadata": {
  "kernelspec": {
   "display_name": "Python 3 (ipykernel)",
   "language": "python",
   "name": "python3"
  },
  "language_info": {
   "codemirror_mode": {
    "name": "ipython",
    "version": 3
   },
   "file_extension": ".py",
   "mimetype": "text/x-python",
   "name": "python",
   "nbconvert_exporter": "python",
   "pygments_lexer": "ipython3",
   "version": "3.9.12"
  }
 },
 "nbformat": 4,
 "nbformat_minor": 5
}
